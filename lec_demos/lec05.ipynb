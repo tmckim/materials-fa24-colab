{
  "cells": [
    {
      "cell_type": "markdown",
      "metadata": {
        "id": "lWPjSFBeJfU2"
      },
      "source": [
        "<a href=\"https://colab.research.google.com/github/tmckim/materials-fa24-colab/blob/main/lec_demos/lec05.ipynb\" target=\"_parent\"><img src=\"https://colab.research.google.com/assets/colab-badge.svg\" alt=\"Open In Colab\"/></a>"
      ]
    },
    {
      "cell_type": "markdown",
      "metadata": {
        "id": "OnBSpwoEJfU4"
      },
      "source": [
        "## Before you start - Save this notebook!\n",
        "\n",
        "When you open a new Colab notebook from the WebCampus (like you hopefully did for this one), you cannot save changes. So it's  best to store the Colab notebook in your personal drive `\"File > Save a copy in drive...\"` **before** you do anything else.\n",
        "\n",
        "The file will open in a new tab in your web browser, and it is automatically named something like: \"**Copy of lec05.ipynb**\". You can rename this to just the title of the assignment \"**lec05.ipynb**\". Make sure you do keep an informative name (like the name of the assignment) so that you know which files to submit back to WebCampus for grading! More instructions on this are at the end of the notebook.\n",
        "\n",
        "\n",
        "**Where does the notebook get saved in Google Drive?**\n",
        "\n",
        "By default, the notebook will be copied to a folder called “Colab Notebooks” at the root (home directory) of your Google Drive. If you use this for other courses or personal code notebooks, I recommend creating a folder for this course and then moving the assignments AFTER you have completed them. <br>\n",
        "\n",
        "I also recommend you give the folder where you save your notebooks^ a different name than the folder we create below that will store the notebook resources you need each time you work through a course notebook. This includes any data files you will need, links to the images that appear in the notebook, and the files associated with the autograder for answer checking.<br>\n",
        "You should select a name other than '**NS499-DataSci-course-materials**'. <br>\n",
        "This folder gets overwritten with each assignment you work on in the course, so you should **NOT** store your notebooks in this folder that we use for course materials! <br><br>For example, you could create a folder called 'NS499-**notebooks**' or something along those lines. \n",
        "\n",
        "__________"
      ]
    },
    {
      "cell_type": "markdown",
      "metadata": {},
      "source": [
        "### We will now do the setup steps as separate cells to help with issues finding files in google drive/colab. <br> If you restart colab, you must rerun all **5** steps in each of these cells!"
      ]
    },
    {
      "cell_type": "code",
      "execution_count": null,
      "metadata": {},
      "outputs": [],
      "source": [
        "# Step 1\n",
        "# Setup and add files needed to access gdrive\n",
        "from google.colab import drive                                   # these lines mount your gdrive to access the files we import below\n",
        "drive.mount('/content/gdrive', force_remount=True)"
      ]
    },
    {
      "cell_type": "code",
      "execution_count": null,
      "metadata": {},
      "outputs": [],
      "source": [
        "# Step 2\n",
        "# Change directory to the correct location in gdrive (modified way to do this from before)\n",
        "import os\n",
        "os.chdir('/content/gdrive/MyDrive/NS499-DataSci-course-materials/')"
      ]
    },
    {
      "cell_type": "code",
      "execution_count": null,
      "metadata": {},
      "outputs": [],
      "source": [
        "# Step 3\n",
        "# Remove the files that were previously there- we will replace with all the old + new ones for this assignment\n",
        "!rm -r materials-fa24-colab                                        "
      ]
    },
    {
      "cell_type": "code",
      "execution_count": null,
      "metadata": {},
      "outputs": [],
      "source": [
        "# Step 4\n",
        "# These lines clone (copy) all the files you will need from where I store the code+data for the course (github)\n",
        "# Second part of the code copies the files to this location and folder in your own gdrive\n",
        "!git clone https://github.com/tmckim/materials-fa24-colab '/content/gdrive/My Drive/NS499-DataSci-course-materials/materials-fa24-colab/'"
      ]
    },
    {
      "cell_type": "code",
      "execution_count": null,
      "metadata": {},
      "outputs": [],
      "source": [
        "# Step 5\n",
        "# Change directory into the folder where the resources for this assignment are stored in gdrive (modified way from before)\n",
        "os.chdir('/content/gdrive/MyDrive/NS499-DataSci-course-materials/materials-fa24-colab/lec_demos/')"
      ]
    },
    {
      "cell_type": "code",
      "execution_count": null,
      "metadata": {
        "id": "MRkneuHTMdzE"
      },
      "outputs": [],
      "source": [
        "# Import packages and other things needed\n",
        "# Don't change this cell; Just run this cell\n",
        "# If you restart colab, make sure to run this cell again after the first ones above^\n",
        "\n",
        "from datascience import *\n",
        "import numpy as np"
      ]
    },
    {
      "cell_type": "markdown",
      "metadata": {},
      "source": [
        "#### Today's Lecture\n",
        "\n",
        "In today's lecture, you'll learn how to:\n",
        "\n",
        "1. review and work with arrays\n",
        "2. access elements in arrays\n",
        "3. learn how to use `np.arange`\n",
        "4. work with data from tables\n",
        "5. create tables from scratch (compared to loading in tables from csv files)"
      ]
    },
    {
      "cell_type": "markdown",
      "metadata": {
        "id": "RVoCaY8kJfVM"
      },
      "source": [
        "## Arrays ##"
      ]
    },
    {
      "cell_type": "code",
      "execution_count": null,
      "metadata": {
        "id": "fe0z_iCrJfVM"
      },
      "outputs": [],
      "source": [
        "# An array of 4 numbers\n",
        "first_four = make_array(1, 2, 3, 4)"
      ]
    },
    {
      "cell_type": "code",
      "execution_count": null,
      "metadata": {
        "id": "YdW9yW4kJfVM"
      },
      "outputs": [],
      "source": [
        "# Show the array\n"
      ]
    },
    {
      "cell_type": "code",
      "execution_count": null,
      "metadata": {
        "id": "VLObJAnwJfVM"
      },
      "outputs": [],
      "source": [
        "# Add to the array\n"
      ]
    },
    {
      "cell_type": "code",
      "execution_count": null,
      "metadata": {},
      "outputs": [],
      "source": [
        "# What happens to the original array?\n",
        "# (just like when we call show/select/drop on a Table)\n"
      ]
    },
    {
      "cell_type": "code",
      "execution_count": null,
      "metadata": {
        "id": "guS-mW7_JfVM"
      },
      "outputs": [],
      "source": [
        "# A new array\n",
        "next_four = make_array(5, 6, 7, 8)"
      ]
    },
    {
      "cell_type": "code",
      "execution_count": null,
      "metadata": {
        "id": "bQXpJr_6JfVN"
      },
      "outputs": [],
      "source": [
        "# A third array\n",
        "only_three = make_array(5, 6, 7)"
      ]
    },
    {
      "cell_type": "code",
      "execution_count": null,
      "metadata": {
        "id": "IykGAhsAJfVN"
      },
      "outputs": [],
      "source": [
        "# Let's cause an error\n"
      ]
    },
    {
      "cell_type": "code",
      "execution_count": null,
      "metadata": {
        "id": "DTT51HIpJfVN"
      },
      "outputs": [],
      "source": [
        "# Show this array again\n",
        "next_four"
      ]
    },
    {
      "cell_type": "code",
      "execution_count": null,
      "metadata": {
        "id": "PlU-9Jc3Uvtf"
      },
      "outputs": [],
      "source": [
        "# Adding the array of numbers\n"
      ]
    },
    {
      "cell_type": "code",
      "execution_count": null,
      "metadata": {
        "id": "Nmy4f1aPUvtf"
      },
      "outputs": [],
      "source": [
        "# Another way to do this\n"
      ]
    },
    {
      "cell_type": "code",
      "execution_count": null,
      "metadata": {
        "id": "6A2PAiOWUvtf"
      },
      "outputs": [],
      "source": [
        "# What if we want to average an array? Multiple ways to do this\n",
        "# use numpy here\n"
      ]
    },
    {
      "cell_type": "code",
      "execution_count": null,
      "metadata": {
        "id": "v78a2vzAUvtg"
      },
      "outputs": [],
      "source": [
        "# Using numpy to take the mean of the array\n"
      ]
    },
    {
      "cell_type": "code",
      "execution_count": null,
      "metadata": {
        "id": "H8rhtGbMUvtg"
      },
      "outputs": [],
      "source": [
        "# What if we want to know the length?\n"
      ]
    },
    {
      "cell_type": "code",
      "execution_count": null,
      "metadata": {
        "id": "vni31SYXUvtg"
      },
      "outputs": [],
      "source": [
        "# Arrays also have a member variable array_name.size that contains the size of the array\n",
        "# Note, size here isn't a function so it doesn't require () after it\n",
        "next_four.size"
      ]
    },
    {
      "cell_type": "markdown",
      "metadata": {
        "id": "IbmqL6RAUvtg"
      },
      "source": [
        "### Accessing Elements"
      ]
    },
    {
      "cell_type": "code",
      "execution_count": null,
      "metadata": {
        "id": "4t8FnUjMVzTi"
      },
      "outputs": [],
      "source": [
        "# Show array again as reminder\n",
        "next_four"
      ]
    },
    {
      "cell_type": "code",
      "execution_count": null,
      "metadata": {
        "id": "YriKy2vUJfVN"
      },
      "outputs": [],
      "source": [
        "# How to index an array\n"
      ]
    },
    {
      "cell_type": "code",
      "execution_count": null,
      "metadata": {
        "id": "nBTditUHJfVN"
      },
      "outputs": [],
      "source": [
        "# What item are we indexing here?\n"
      ]
    },
    {
      "cell_type": "markdown",
      "metadata": {
        "id": "M81vaW2cUvtg"
      },
      "source": [
        "**Bonus!** This is called **array indexing**. There is a shorter \"equivalent\" syntax that people often use. However, for this class you only need to know about `.item()`.<br><br>\n",
        "`array[ INDEX ]`"
      ]
    },
    {
      "cell_type": "code",
      "execution_count": null,
      "metadata": {
        "id": "ZhyJLzZpUvtg"
      },
      "outputs": [],
      "source": [
        "# Shorter and more compact\n",
        "next_four[1]"
      ]
    },
    {
      "cell_type": "markdown",
      "metadata": {
        "id": "pYBMSTGFUvtg"
      },
      "source": [
        "## Ranges ##"
      ]
    },
    {
      "cell_type": "markdown",
      "metadata": {
        "id": "NmBzHJfzUvth"
      },
      "source": [
        "We use ranges to make arrays of number sequences easily. The numpy `np.arange(start, stop, step)` function produces an array starting at `start` and ending *before* `stop`, in increments of `step`."
      ]
    },
    {
      "cell_type": "code",
      "execution_count": null,
      "metadata": {
        "id": "eQMCU3_BUvth"
      },
      "outputs": [],
      "source": [
        "# how we previously learned to make an array\n",
        "make_array(0, 1, 2, 3, 4, 5, 6)"
      ]
    },
    {
      "cell_type": "code",
      "execution_count": null,
      "metadata": {
        "id": "IFqmIiwIUvth"
      },
      "outputs": [],
      "source": [
        "# Use numpy to make a range- what numbers will we get?\n",
        "np.arange(0,7,1)"
      ]
    },
    {
      "cell_type": "code",
      "execution_count": null,
      "metadata": {
        "id": "tR20UqDlUvth"
      },
      "outputs": [],
      "source": [
        "# Can we write it shorter? Use the default setting for step size\n"
      ]
    },
    {
      "cell_type": "code",
      "execution_count": null,
      "metadata": {
        "id": "pwHJcWVFUvth"
      },
      "outputs": [],
      "source": [
        "# Even shorter- assumes we start from 0\n"
      ]
    },
    {
      "cell_type": "code",
      "execution_count": null,
      "metadata": {
        "id": "Ubs7ZdExUvth"
      },
      "outputs": [],
      "source": [
        "# Anything else you want me to try?\n"
      ]
    },
    {
      "cell_type": "markdown",
      "metadata": {},
      "source": [
        "### A more interesting table"
      ]
    },
    {
      "cell_type": "markdown",
      "metadata": {},
      "source": [
        "[Spotify dataset of the most streamed songs of 2023](https://www.kaggle.com/datasets/nelgiriyewithana/top-spotify-songs-2023)"
      ]
    },
    {
      "cell_type": "code",
      "execution_count": null,
      "metadata": {},
      "outputs": [],
      "source": [
        "spotify = Table().read_table('spotify-2023.csv')\n",
        "spotify"
      ]
    },
    {
      "cell_type": "code",
      "execution_count": null,
      "metadata": {},
      "outputs": [],
      "source": [
        "# Let's sample some of our table to see what other release_years there might be\n",
        "spotify.sample(10)"
      ]
    },
    {
      "cell_type": "code",
      "execution_count": null,
      "metadata": {},
      "outputs": [],
      "source": [
        "# Is there another way to see different values?\n"
      ]
    },
    {
      "cell_type": "code",
      "execution_count": null,
      "metadata": {},
      "outputs": [],
      "source": [
        "# Let's simplify our table to only single artists that released tracks in 2023\n",
        "single_artists = ..."
      ]
    },
    {
      "cell_type": "code",
      "execution_count": null,
      "metadata": {},
      "outputs": [],
      "source": [
        "# Let's view the simplified table\n",
        "single_artists"
      ]
    },
    {
      "cell_type": "code",
      "execution_count": null,
      "metadata": {},
      "outputs": [],
      "source": [
        "# How many artists do we have in our table?\n"
      ]
    },
    {
      "cell_type": "code",
      "execution_count": null,
      "metadata": {},
      "outputs": [],
      "source": [
        "# Remove the artist count column\n"
      ]
    },
    {
      "cell_type": "code",
      "execution_count": null,
      "metadata": {},
      "outputs": [],
      "source": [
        "# Check the number of columns again. What is going on? WHy would it be the same?\n"
      ]
    },
    {
      "cell_type": "code",
      "execution_count": null,
      "metadata": {},
      "outputs": [],
      "source": [
        "# Check our original table \n",
        "single_artists"
      ]
    },
    {
      "cell_type": "code",
      "execution_count": null,
      "metadata": {},
      "outputs": [],
      "source": [
        "# Let's remove multiple cols we won't use right now\n",
        "single_artists = single_artists.drop('in_apple_playlists', 'in_apple_charts', 'in_deezer_playlists', 'in_deezer_charts', 'in_shazam_charts')"
      ]
    },
    {
      "cell_type": "code",
      "execution_count": null,
      "metadata": {},
      "outputs": [],
      "source": [
        "# Review the dataset again\n",
        "single_artists.show(15)"
      ]
    },
    {
      "cell_type": "code",
      "execution_count": null,
      "metadata": {},
      "outputs": [],
      "source": [
        "# What method can we use to see the songs in order from most to least streamed?\n"
      ]
    },
    {
      "cell_type": "code",
      "execution_count": null,
      "metadata": {},
      "outputs": [],
      "source": [
        "# Why does this line error?\n",
        "single_artists.drop('artist_count').where('artist_count', 1)"
      ]
    },
    {
      "cell_type": "code",
      "execution_count": null,
      "metadata": {},
      "outputs": [],
      "source": [
        "# Create a table from the intial read in of specifics that we want\n"
      ]
    },
    {
      "cell_type": "code",
      "execution_count": null,
      "metadata": {},
      "outputs": [],
      "source": [
        "# Taylor swift table\n",
        "swifties = ..."
      ]
    },
    {
      "cell_type": "code",
      "execution_count": null,
      "metadata": {},
      "outputs": [],
      "source": [
        "# What if we want a table of just the streams data?\n"
      ]
    },
    {
      "cell_type": "code",
      "execution_count": null,
      "metadata": {},
      "outputs": [],
      "source": [
        "# How can we confirm it is a table?\n"
      ]
    },
    {
      "cell_type": "code",
      "execution_count": null,
      "metadata": {},
      "outputs": [],
      "source": [
        "# How do we get an array of the streams?\n",
        "streams_array = ..."
      ]
    },
    {
      "cell_type": "code",
      "execution_count": null,
      "metadata": {},
      "outputs": [],
      "source": [
        "# How can we confirm it is an array?"
      ]
    },
    {
      "cell_type": "code",
      "execution_count": null,
      "metadata": {},
      "outputs": [],
      "source": [
        "# What about an array of text?\n"
      ]
    },
    {
      "cell_type": "code",
      "execution_count": null,
      "metadata": {},
      "outputs": [],
      "source": [
        "# What if we want the average number of streams for Taylor Swift songs?\n"
      ]
    },
    {
      "cell_type": "code",
      "execution_count": null,
      "metadata": {},
      "outputs": [],
      "source": [
        "# Another way to do this\n"
      ]
    },
    {
      "cell_type": "code",
      "execution_count": null,
      "metadata": {},
      "outputs": [],
      "source": [
        "# Why doesn't this work?\n",
        "np.average(swifties.select('streams'))"
      ]
    },
    {
      "cell_type": "code",
      "execution_count": null,
      "metadata": {},
      "outputs": [],
      "source": [
        "# You don't need to know this yet, but we will use it later in the course when you learn more about numpy (np)\n",
        "np.unique(spotify.column('artist_name'))"
      ]
    },
    {
      "cell_type": "code",
      "execution_count": null,
      "metadata": {},
      "outputs": [],
      "source": [
        "# Select another artist and get a table of only their data\n",
        "weeknd = ..."
      ]
    },
    {
      "cell_type": "code",
      "execution_count": null,
      "metadata": {},
      "outputs": [],
      "source": [
        "# Calculate the difference in number of streams between the two artists\n"
      ]
    },
    {
      "cell_type": "code",
      "execution_count": null,
      "metadata": {},
      "outputs": [],
      "source": [
        "# How many songs does Taylor Swift have in the dataset?\n"
      ]
    },
    {
      "cell_type": "code",
      "execution_count": null,
      "metadata": {},
      "outputs": [],
      "source": [
        "# How many songs does The Weeknd have in the dataset?\n"
      ]
    },
    {
      "cell_type": "markdown",
      "metadata": {},
      "source": [
        "## 🎶 Most Streamed Spotify Songs from 2023 Dataset 🎹\n",
        "\n",
        "The data was downloaded from [kaggle](https://www.kaggle.com/datasets/nelgiriyewithana/top-spotify-songs-2023) and has\n",
        "24 columns: <br><br>\n",
        "`track_name`: string, the title or name of the song <br>\n",
        "`artist(s)_name`: string, the name of the artist or group responsible for creating the song\n",
        "<br>\n",
        "`artist_count`: int, number of artists contributing to the song\n",
        "<br>\n",
        "`released_year`: int, the year when the song was released\n",
        "<br>\n",
        "`released_month`: int, the month when the song was released\n",
        "<br>\n",
        "`released_day`: int, the day of the month when the song was released\n",
        "<br>\n",
        "`in_spotify_playlists`: int, the number of Spotify playlists the song is included in\n",
        "<br>\n",
        "`in_spotify_charts`: int, the number to indicate presence and rank of the song on Spotify charts\n",
        "<br>\n",
        "`streams`: int, total number of streams on Spotify (ranges from thousands to billions)\n",
        "<br>\n",
        "`in_apple_playlists`: int, the number of Apple Music playlists the song is included in\n",
        "<br>\n",
        "`in_apple_charts`: int, the number to indicate presence and rank of the song on Apple Music charts\n",
        "<br>\n",
        "`in_deezer_playlists`: int, the number of Deezer  playlists the song is included in\n",
        "<br>\n",
        "`in_deezer_charts`: int, the number to indicate presence and rank of the song on Deezer charts\n",
        "<br>\n",
        "`in_shazam_charts`: int, the number to indicate presence and rank of the song on Shazam charts\n",
        "<br>\n",
        "`bpm`: int, beats per minute (bpm); a measure to indicate song tempo\n",
        "<br>\n",
        "`key`: string, key of the song\n",
        "<br>\n",
        "`mode`: string, mode of the song (major or minor)\n",
        "<br>\n",
        "`danceability_%`: int, percentage indicating how suitable the song is for dancing\n",
        "<br>\n",
        "`valence_%`: int, percentage indicating positivity of the song's musical content\n",
        "<br>\n",
        "`energy_%`: int, percentage indicating the perceived energy level of the song\n",
        "<br>\n",
        "`acousticness_%`: int, percentage indicating the amount of acoustic sound in the song\n",
        "<br>\n",
        "`instrumentalness_%`: int, percentage indicating the amount of instrumental content in the song\n",
        "<br>\n",
        "`liveness_%`: int, percentage indicating the prescence of live performance elements\n",
        "<br>\n",
        "`speechiness_%`: int, percentage indicating the amount of spoken words in the song"
      ]
    },
    {
      "cell_type": "markdown",
      "metadata": {
        "id": "rK25tML2Uvtl"
      },
      "source": [
        "# Ways to Create a Table #\n",
        "\n",
        "## Creating a Table from Scratch ##"
      ]
    },
    {
      "cell_type": "code",
      "execution_count": null,
      "metadata": {
        "id": "At8q8dWnUvtl"
      },
      "outputs": [],
      "source": [
        "# Make an array of streets\n",
        "streets = make_array('Virginia', 'Evans', 'Sierra', 'McCarran')\n",
        "streets"
      ]
    },
    {
      "cell_type": "code",
      "execution_count": null,
      "metadata": {
        "id": "c2OF1FPoUvtl"
      },
      "outputs": [],
      "source": [
        "# Create an empty table\n",
        "empty_table = Table()\n",
        "empty_table"
      ]
    },
    {
      "cell_type": "code",
      "execution_count": null,
      "metadata": {
        "id": "dO5durFuUvtl"
      },
      "outputs": [],
      "source": [
        "# Create a table using the array we made above (streets)\n",
        "campus_streets = Table().with_column('Streets', streets)\n",
        "campus_streets"
      ]
    },
    {
      "cell_type": "code",
      "execution_count": null,
      "metadata": {
        "id": "qN4VndOmUvtl"
      },
      "outputs": [],
      "source": [
        "# Add a column to the table\n",
        "campus_streets.with_column('Blocks from campus', np.arange(4))\n",
        "campus_streets"
      ]
    },
    {
      "cell_type": "code",
      "execution_count": null,
      "metadata": {
        "id": "tmT-VbN2Uvtm"
      },
      "outputs": [],
      "source": [
        "# Add a column to the table- what's the difference from the above code?\n",
        "campus_streets = campus_streets.with_column('Blocks from campus', np.arange(4))\n",
        "campus_streets"
      ]
    },
    {
      "cell_type": "code",
      "execution_count": null,
      "metadata": {
        "id": "c_VVrfWeUvtm"
      },
      "outputs": [],
      "source": [
        "# Create a table with multiple columns in one step\n",
        "Table().with_columns(\n",
        "    'Streets', streets,\n",
        "    'Blocks from campus', np.arange(4)\n",
        ")"
      ]
    },
    {
      "cell_type": "markdown",
      "metadata": {
        "id": "CaR9gP1kJfVR"
      },
      "source": [
        "### Saving\n",
        "Remember to save your notebook before closing.\n",
        "Choose **Save** (and make sure you've already saved a copy in your drive) from the **File** menu."
      ]
    }
  ],
  "metadata": {
    "anaconda-cloud": {},
    "colab": {
      "provenance": []
    },
    "kernelspec": {
      "display_name": "Python 3",
      "language": "python",
      "name": "python3"
    },
    "language_info": {
      "codemirror_mode": {
        "name": "ipython",
        "version": 3
      },
      "file_extension": ".py",
      "mimetype": "text/x-python",
      "name": "python",
      "nbconvert_exporter": "python",
      "pygments_lexer": "ipython3",
      "version": "3.8.5"
    }
  },
  "nbformat": 4,
  "nbformat_minor": 0
}
