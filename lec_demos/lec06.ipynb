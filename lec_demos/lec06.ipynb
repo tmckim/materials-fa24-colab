{
  "cells": [
    {
      "cell_type": "markdown",
      "metadata": {
        "id": "lWPjSFBeJfU2"
      },
      "source": [
        "<a href=\"https://colab.research.google.com/github/tmckim/materials-fa24-colab/blob/main/lec_demos/lec06.ipynb\" target=\"_parent\"><img src=\"https://colab.research.google.com/assets/colab-badge.svg\" alt=\"Open In Colab\"/></a>"
      ]
    },
    {
      "cell_type": "markdown",
      "metadata": {
        "id": "OnBSpwoEJfU4"
      },
      "source": [
        "## Before you start - Save this notebook!\n",
        "\n",
        "When you open a new Colab notebook from the WebCampus (like you hopefully did for this one), you cannot save changes. So it's  best to store the Colab notebook in your personal drive `\"File > Save a copy in drive...\"` **before** you do anything else.\n",
        "\n",
        "The file will open in a new tab in your web browser, and it is automatically named something like: \"**Copy of lec06.ipynb**\". You can rename this to just the title of the assignment \"**lec06.ipynb**\". Make sure you do keep an informative name (like the name of the assignment) so that you know which files to submit back to WebCampus for grading! More instructions on this are at the end of the notebook.\n",
        "\n",
        "\n",
        "**Where does the notebook get saved in Google Drive?**\n",
        "\n",
        "By default, the notebook will be copied to a folder called “Colab Notebooks” at the root (home directory) of your Google Drive. If you use this for other courses or personal code notebooks, I recommend creating a folder for this course and then moving the assignments AFTER you have completed them. <br>\n",
        "\n",
        "I also recommend you give the folder where you save your notebooks^ a different name than the folder we create below that will store the notebook resources you need each time you work through a course notebook. This includes any data files you will need, links to the images that appear in the notebook, and the files associated with the autograder for answer checking.<br>\n",
        "You should select a name other than '**NS499-DataSci-course-materials**'. <br>\n",
        "This folder gets overwritten with each assignment you work on in the course, so you should **NOT** store your notebooks in this folder that we use for course materials! <br><br>For example, you could create a folder called 'NS499-**notebooks**' or something along those lines. "
      ]
    },
    {
      "cell_type": "markdown",
      "metadata": {},
      "source": [
        "## Import & Setup"
      ]
    },
    {
      "cell_type": "code",
      "execution_count": null,
      "metadata": {},
      "outputs": [],
      "source": [
        "# Step 1\n",
        "# Setup and add files needed to access gdrive\n",
        "from google.colab import drive                                   # these lines mount your gdrive to access the files we import below\n",
        "drive.mount('/content/gdrive', force_remount=True)"
      ]
    },
    {
      "cell_type": "code",
      "execution_count": null,
      "metadata": {},
      "outputs": [],
      "source": [
        "# Step 2\n",
        "# Change directory to the correct location in gdrive (modified way to do this from before)\n",
        "import os\n",
        "os.chdir('/content/gdrive/MyDrive/NS499-DataSci-course-materials/')"
      ]
    },
    {
      "cell_type": "code",
      "execution_count": null,
      "metadata": {},
      "outputs": [],
      "source": [
        "# Step 3\n",
        "# Remove the files that were previously there- we will replace with all the old + new ones for this assignment\n",
        "!rm -r materials-fa24-colab                                        "
      ]
    },
    {
      "cell_type": "code",
      "execution_count": null,
      "metadata": {},
      "outputs": [],
      "source": [
        "# Step 4\n",
        "# These lines clone (copy) all the files you will need from where I store the code+data for the course (github)\n",
        "# Second part of the code copies the files to this location and folder in your own gdrive\n",
        "!git clone https://github.com/tmckim/materials-fa24-colab '/content/gdrive/My Drive/NS499-DataSci-course-materials/materials-fa24-colab/'"
      ]
    },
    {
      "cell_type": "code",
      "execution_count": null,
      "metadata": {},
      "outputs": [],
      "source": [
        "# Step 5\n",
        "# Change directory into the folder where the resources for this assignment are stored in gdrive (modified way from before)\n",
        "os.chdir('/content/gdrive/MyDrive/NS499-DataSci-course-materials/materials-fa24-colab/lec_demos/')"
      ]
    },
    {
      "cell_type": "code",
      "execution_count": null,
      "metadata": {},
      "outputs": [],
      "source": [
        "# Import packages and other things needed\n",
        "# Don't change this cell; Just run this cell\n",
        "# If you restart colab, make sure to run this cell again after the first ones above^\n",
        "\n",
        "from datascience import *\n",
        "import numpy as np\n",
        "\n",
        "%matplotlib inline\n",
        "import matplotlib.pyplot as plt\n",
        "plt.style.use(\"fivethirtyeight\")"
      ]
    },
    {
      "cell_type": "markdown",
      "metadata": {},
      "source": [
        "#### Today's Lecture\n",
        "\n",
        "In today's lecture, you'll learn how to:\n",
        "\n",
        "1. visualize data\n",
        "2. use `plot` and `scatter` to plot numerical data\n",
        "3. use `bar` and `barh` to plot categorical and numerical data"
      ]
    },
    {
      "cell_type": "markdown",
      "metadata": {
        "id": "zMEqI1xaUvtm"
      },
      "source": [
        "## Census Data ##"
      ]
    },
    {
      "cell_type": "code",
      "execution_count": null,
      "metadata": {
        "id": "shQ4daELUvtm"
      },
      "outputs": [],
      "source": [
        "# Read in the Census data table\n",
        "full = Table.read_table('nc-est2019-agesex-res.csv')"
      ]
    },
    {
      "cell_type": "markdown",
      "metadata": {},
      "source": [
        "Columns in the table: <br>\n",
        "SEX: coded so that values of: 0 = total, 1 = male, 2 = female <br>\n",
        "AGE: ages in completed years, but with special values: <br>\n",
        "* 999 = sum of the total populatio n<br>\n",
        "* 100 = all persons 100 and over <br>\n",
        "* *All other ages from 1-100 are valid numbers <br>\n",
        "<br>\n",
        "\n",
        "The other columns contain estimates of the US population in each category of sex and age in the years 2010 through 2019. The Census takes place every 10 years. For years in between, the Census Bureau estimates population changes each year. That is why the columns are labeled with POPESTIMATE for population estimates.\n"
      ]
    },
    {
      "cell_type": "code",
      "execution_count": null,
      "metadata": {
        "id": "hNGE_-dLUvtm"
      },
      "outputs": [],
      "source": [
        "# Keep only the columns we care about- Sex, Age, 2014 and 2019\n",
        "# What is the output of select?\n",
        "partial = ..."
      ]
    },
    {
      "cell_type": "code",
      "execution_count": null,
      "metadata": {
        "id": "Z_CJVFAnUvtm"
      },
      "outputs": [],
      "source": [
        "# Make things easier to read\n",
        "# can relabel column names using relabeled\n",
        "simple = ..."
      ]
    },
    {
      "cell_type": "code",
      "execution_count": null,
      "metadata": {},
      "outputs": [],
      "source": [
        "# But how do I see the 999 values in the Age column?"
      ]
    },
    {
      "cell_type": "code",
      "execution_count": null,
      "metadata": {
        "id": "Fr0ZaGhyUvtm"
      },
      "outputs": [],
      "source": [
        "# Remove the age totals- coded as 999\n",
        "no_999 = ..."
      ]
    },
    {
      "cell_type": "markdown",
      "metadata": {
        "id": "REwhE9PuUvtm"
      },
      "source": [
        "## Line Plots ##"
      ]
    },
    {
      "cell_type": "code",
      "execution_count": null,
      "metadata": {
        "id": "RwgTHYqJUvtm"
      },
      "outputs": [],
      "source": [
        "# Our first chart- age and 2019\n",
        "..."
      ]
    },
    {
      "cell_type": "code",
      "execution_count": null,
      "metadata": {
        "id": "p4vjg3FjUvtn"
      },
      "outputs": [],
      "source": [
        "# Adjusted plot for only total\n",
        "overall = ...\n",
        "..."
      ]
    },
    {
      "cell_type": "code",
      "execution_count": null,
      "metadata": {
        "id": "MrwikdJgUvtn"
      },
      "outputs": [],
      "source": [
        "# ^^ That plot should be labeled! Here are 3 ways to label it:"
      ]
    },
    {
      "cell_type": "code",
      "execution_count": null,
      "metadata": {
        "id": "2r6tkvqBUvtn"
      },
      "outputs": [],
      "source": [
        "# US Population  <--- Just add a comment\n",
        "\n",
        "overall.plot('AGE', '2019')"
      ]
    },
    {
      "cell_type": "code",
      "execution_count": null,
      "metadata": {
        "id": "C6VDdZI5Uvtn"
      },
      "outputs": [],
      "source": [
        "overall.plot('AGE', '2019')\n",
        "print('US Population')  # <--- Print out what it is"
      ]
    },
    {
      "cell_type": "code",
      "execution_count": null,
      "metadata": {
        "id": "9JHwVBQNUvtn"
      },
      "outputs": [],
      "source": [
        "overall.plot('AGE', '2019')\n",
        "plt.title('US Population');    # <--- Add a title"
      ]
    },
    {
      "cell_type": "code",
      "execution_count": null,
      "metadata": {
        "id": "Nf8EHLO_Uvtn"
      },
      "outputs": [],
      "source": [
        "# Now plot 2014"
      ]
    },
    {
      "cell_type": "code",
      "execution_count": null,
      "metadata": {},
      "outputs": [],
      "source": []
    },
    {
      "cell_type": "code",
      "execution_count": null,
      "metadata": {
        "id": "zvTMXEXlUvtn"
      },
      "outputs": [],
      "source": [
        "# Put both years on the same plot\n"
      ]
    },
    {
      "cell_type": "markdown",
      "metadata": {
        "id": "Nd7MBHdFUvto"
      },
      "source": [
        "## Males vs Females (Optional)"
      ]
    },
    {
      "cell_type": "code",
      "execution_count": null,
      "metadata": {
        "id": "dgE07ck0Uvto"
      },
      "outputs": [],
      "source": [
        "# Let's compare male and female counts per age\n",
        "males = ...\n",
        "females = ..."
      ]
    },
    {
      "cell_type": "code",
      "execution_count": null,
      "metadata": {
        "id": "vqfBTTlAUvto"
      },
      "outputs": [],
      "source": [
        "# Create table for 2019\n",
        "pop_2019 = ...\n",
        "pop_2019"
      ]
    },
    {
      "cell_type": "code",
      "execution_count": null,
      "metadata": {
        "id": "6EKzTL0_Uvto"
      },
      "outputs": [],
      "source": [
        "# Plot 2019 data\n",
        "..."
      ]
    },
    {
      "cell_type": "code",
      "execution_count": null,
      "metadata": {
        "id": "F2ho6I8kUvto"
      },
      "outputs": [],
      "source": [
        "# Calculate the percent female for each age\n",
        "total = pop_2019.column('Males') + pop_2019.column('Females')\n",
        "pct_female = pop_2019.column('Females') / total * 100\n",
        "pct_female"
      ]
    },
    {
      "cell_type": "code",
      "execution_count": null,
      "metadata": {
        "id": "TeHCGzxZUvto"
      },
      "outputs": [],
      "source": [
        "# Round it to 3 so that it's easier to read\n",
        "pct_female = np.round(pct_female, 3)\n",
        "pct_female"
      ]
    },
    {
      "cell_type": "code",
      "execution_count": null,
      "metadata": {
        "id": "fWg9oR-dUvto"
      },
      "outputs": [],
      "source": [
        "# Add female percent to our table\n",
        "pop_2019 = pop_2019.with_column('Percent female', pct_female)\n",
        "pop_2019"
      ]
    },
    {
      "cell_type": "code",
      "execution_count": null,
      "metadata": {
        "id": "e1lqm2HXUvto"
      },
      "outputs": [],
      "source": [
        "# Plot percent\n",
        "..."
      ]
    },
    {
      "cell_type": "code",
      "execution_count": null,
      "metadata": {
        "id": "0un4SEn3Uvtp"
      },
      "outputs": [],
      "source": [
        "# ^^ Look at the y-axis! Trend is not as dramatic as you might think\n",
        "\n",
        "pop_2019.plot('Age', 'Percent female')\n",
        "plt.ylim(0, 100);  # how to adjust your axis limits "
      ]
    },
    {
      "cell_type": "markdown",
      "metadata": {
        "id": "VgvKaJn1Uvtp"
      },
      "source": [
        "## Scatter Plots ##"
      ]
    },
    {
      "cell_type": "code",
      "execution_count": null,
      "metadata": {
        "id": "Kjp8CyiQUvtp"
      },
      "outputs": [],
      "source": [
        "# Actors and their highest grossing movies\n",
        "actors = Table.read_table('actors.csv')\n",
        "actors"
      ]
    },
    {
      "cell_type": "code",
      "execution_count": null,
      "metadata": {
        "id": "L_mc50bOUvtp"
      },
      "outputs": [],
      "source": [
        "# Create scatter plot from slides using # movies and avg per movie\n",
        "..."
      ]
    },
    {
      "cell_type": "code",
      "execution_count": null,
      "metadata": {
        "id": "ZkriddcxUvtp"
      },
      "outputs": [],
      "source": [
        "# How do we find the highest average per movie?\n",
        "..."
      ]
    },
    {
      "cell_type": "code",
      "execution_count": null,
      "metadata": {
        "id": "8Vv_RB8gUvtp"
      },
      "outputs": [],
      "source": [
        "#@title Extra: Scatter of # of movies compared to total gross amount\n",
        "#actors.scatter('Number of Movies', 'Total Gross')"
      ]
    },
    {
      "cell_type": "markdown",
      "metadata": {
        "id": "tON-vCDWUvtp"
      },
      "source": [
        "## Bar Charts ##"
      ]
    },
    {
      "cell_type": "code",
      "execution_count": null,
      "metadata": {
        "id": "ghuBJO2WUvtp"
      },
      "outputs": [],
      "source": [
        "# Highest grossing movies as of 2017\n",
        "top_movies = Table.read_table('top_movies_2017.csv')\n",
        "top_movies"
      ]
    },
    {
      "cell_type": "code",
      "execution_count": null,
      "metadata": {
        "id": "c5R7LcyCUvtq"
      },
      "outputs": [],
      "source": [
        "# Find the top 10 movies using take + np.arange\n",
        "top10_adjusted = ..."
      ]
    },
    {
      "cell_type": "code",
      "execution_count": null,
      "metadata": {},
      "outputs": [],
      "source": [
        "# Convert to millions of dollars for readability\n",
        "millions = np.round(top10_adjusted.column('Gross (Adjusted)') / 1000000, 3)\n",
        "top10_adjusted = top10_adjusted.with_column('Millions', millions)\n",
        "top10_adjusted"
      ]
    },
    {
      "cell_type": "code",
      "execution_count": null,
      "metadata": {
        "id": "Y3Q2jOOIUvtq"
      },
      "outputs": [],
      "source": [
        "# Should we use a line plot here?\n",
        "..."
      ]
    },
    {
      "cell_type": "code",
      "execution_count": null,
      "metadata": {
        "id": "G88VU1XIUvtq"
      },
      "outputs": [],
      "source": [
        "# What should we use for numerical data instead?\n",
        "..."
      ]
    },
    {
      "cell_type": "markdown",
      "metadata": {
        "id": "CaR9gP1kJfVR"
      },
      "source": [
        "### Saving\n",
        "Remember to save your notebook before closing.\n",
        "Choose **Save** (and make sure you've already saved a copy in your drive) from the **File** menu."
      ]
    }
  ],
  "metadata": {
    "anaconda-cloud": {},
    "colab": {
      "provenance": []
    },
    "kernelspec": {
      "display_name": "Python 3",
      "language": "python",
      "name": "python3"
    },
    "language_info": {
      "codemirror_mode": {
        "name": "ipython",
        "version": 3
      },
      "file_extension": ".py",
      "mimetype": "text/x-python",
      "name": "python",
      "nbconvert_exporter": "python",
      "pygments_lexer": "ipython3",
      "version": "3.8.5"
    }
  },
  "nbformat": 4,
  "nbformat_minor": 0
}
