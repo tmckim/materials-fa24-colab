{
  "cells": [
    {
      "cell_type": "markdown",
      "metadata": {
        "id": "27CcYSR1FsT_"
      },
      "source": [
        "<a href=\"https://colab.research.google.com/github/tmckim/materials-fa24-colab/blob/main/lec_demos/lec07.ipynb\" target=\"_parent\"><img src=\"https://colab.research.google.com/assets/colab-badge.svg\" alt=\"Open In Colab\"/></a>"
      ]
    },
    {
      "cell_type": "markdown",
      "metadata": {
        "id": "P8-D3wz5FsUB"
      },
      "source": [
        "## Before you start - Save this notebook!\n",
        "\n",
        "When you open a new Colab notebook from the WebCampus (like you hopefully did for this one), you cannot save changes. So it's  best to store the Colab notebook in your personal drive `\"File > Save a copy in drive...\"` **before** you do anything else.\n",
        "\n",
        "The file will open in a new tab in your web browser, and it is automatically named something like: \"**Copy of lec07.ipynb**\". You can rename this to just the title of the assignment \"**lec07.ipynb**\". Make sure you do keep an informative name (like the name of the assignment) so that you know which files to submit back to WebCampus for grading! More instructions on this are at the end of the notebook.\n",
        "\n",
        "\n",
        "**Where does the notebook get saved in Google Drive?**\n",
        "\n",
        "By default, the notebook will be copied to a folder called “Colab Notebooks” at the root (home directory) of your Google Drive. If you use this for other courses or personal code notebooks, I recommend creating a folder for this course and then moving the assignments AFTER you have completed them. <br>\n",
        "\n",
        "I also recommend you give the folder where you save your notebooks^ a different name than the folder we create below that will store the notebook resources you need each time you work through a course notebook. This includes any data files you will need, links to the images that appear in the notebook, and the files associated with the autograder for answer checking.<br>\n",
        "You should select a name other than '**NS499-DataSci-course-materials**'. <br>\n",
        "This folder gets overwritten with each assignment you work on in the course, so you should **NOT** store your notebooks in this folder that we use for course materials! <br><br>For example, you could create a folder called 'NS499-**notebooks**' or something along those lines. "
      ]
    },
    {
      "cell_type": "markdown",
      "metadata": {},
      "source": [
        "# Import & Setup"
      ]
    },
    {
      "cell_type": "code",
      "execution_count": null,
      "metadata": {},
      "outputs": [],
      "source": [
        "# Step 1\n",
        "# Setup and add files needed to access gdrive\n",
        "from google.colab import drive                                   # these lines mount your gdrive to access the files we import below\n",
        "drive.mount('/content/gdrive', force_remount=True)"
      ]
    },
    {
      "cell_type": "code",
      "execution_count": null,
      "metadata": {},
      "outputs": [],
      "source": [
        "# Step 2\n",
        "# Change directory to the correct location in gdrive (modified way to do this from before)\n",
        "import os\n",
        "os.chdir('/content/gdrive/MyDrive/NS499-DataSci-course-materials/')"
      ]
    },
    {
      "cell_type": "code",
      "execution_count": null,
      "metadata": {},
      "outputs": [],
      "source": [
        "# Step 3\n",
        "# Remove the files that were previously there- we will replace with all the old + new ones for this assignment\n",
        "!rm -r materials-fa24-colab                                        "
      ]
    },
    {
      "cell_type": "code",
      "execution_count": null,
      "metadata": {},
      "outputs": [],
      "source": [
        "# Step 4\n",
        "# These lines clone (copy) all the files you will need from where I store the code+data for the course (github)\n",
        "# Second part of the code copies the files to this location and folder in your own gdrive\n",
        "!git clone https://github.com/tmckim/materials-fa24-colab '/content/gdrive/My Drive/NS499-DataSci-course-materials/materials-fa24-colab/'"
      ]
    },
    {
      "cell_type": "code",
      "execution_count": null,
      "metadata": {},
      "outputs": [],
      "source": [
        "# Step 5\n",
        "# Change directory into the folder where the resources for this assignment are stored in gdrive (modified way from before)\n",
        "os.chdir('/content/gdrive/MyDrive/NS499-DataSci-course-materials/materials-fa24-colab/lec_demos/')"
      ]
    },
    {
      "cell_type": "code",
      "execution_count": null,
      "metadata": {},
      "outputs": [],
      "source": [
        "# Import packages and other things needed\n",
        "# Don't change this cell; Just run this cell\n",
        "# If you restart colab, make sure to run this cell again after the first ones above^\n",
        "\n",
        "from datascience import *\n",
        "import numpy as np\n",
        "import warnings\n",
        "warnings.filterwarnings(\"ignore\")\n",
        "\n",
        "%matplotlib inline\n",
        "import matplotlib.pyplot as plt\n",
        "plt.style.use(\"fivethirtyeight\")\n",
        "plt.rcParams[\"patch.force_edgecolor\"] = True"
      ]
    },
    {
      "cell_type": "markdown",
      "metadata": {},
      "source": [
        "#### Today's Lecture\n",
        "\n",
        "In today's lecture, you'll learn how to:\n",
        "\n",
        "1. continue practicing to visualize data (more!)\n",
        "2. review plotting numerical and categorical data\n",
        "3. use `hist` to plot distributions"
      ]
    },
    {
      "cell_type": "markdown",
      "metadata": {},
      "source": [
        "## From end of last lecture (lec06)"
      ]
    },
    {
      "cell_type": "markdown",
      "metadata": {},
      "source": [
        "# Bar Charts"
      ]
    },
    {
      "cell_type": "code",
      "execution_count": null,
      "metadata": {},
      "outputs": [],
      "source": [
        "# Highest grossing movies as of 2017\n",
        "top_movies = Table.read_table('top_movies_2017.csv')\n",
        "top_movies"
      ]
    },
    {
      "cell_type": "code",
      "execution_count": null,
      "metadata": {},
      "outputs": [],
      "source": [
        "# How would I find the top 10 movies? (Review from last week concepts)\n",
        "top10_adjusted = ...\n",
        "top10_adjusted"
      ]
    },
    {
      "cell_type": "code",
      "execution_count": null,
      "metadata": {},
      "outputs": [],
      "source": [
        "# Convert to millions of dollars for readability\n",
        "millions = np.round(top10_adjusted.column('Gross (Adjusted)') / 1000000, 3)\n",
        "top10_adjusted = top10_adjusted.with_column('Millions', millions)\n",
        "top10_adjusted"
      ]
    },
    {
      "cell_type": "code",
      "execution_count": null,
      "metadata": {},
      "outputs": [],
      "source": [
        "# What's wrong with this code to plot?\n",
        "top10_adjusted.plot('Year', 'Millions')"
      ]
    },
    {
      "cell_type": "markdown",
      "metadata": {
        "id": "XQKYiM49FsUG"
      },
      "source": [
        "## Numerical Distributions ##"
      ]
    },
    {
      "cell_type": "markdown",
      "metadata": {
        "id": "hWvtHTdtFsUG"
      },
      "source": [
        "The most basic tool for visualizing the distribution of numerical data is the historgram."
      ]
    },
    {
      "cell_type": "code",
      "execution_count": null,
      "metadata": {
        "id": "maChrnhqFsUH"
      },
      "outputs": [],
      "source": [
        "# Examine the age of the top films\n",
        "# Show just a preview of the table- practice using np.arange from last lectures\n",
        "..."
      ]
    },
    {
      "cell_type": "code",
      "execution_count": null,
      "metadata": {
        "id": "14qftW1vFsUH"
      },
      "outputs": [],
      "source": [
        "# Add a column containing the age of each movie in the top_movies table\n",
        "year = 2023\n",
        "ages = ...\n",
        "top_movies = ..."
      ]
    },
    {
      "cell_type": "code",
      "execution_count": null,
      "metadata": {
        "id": "XywtN6dwFsUH"
      },
      "outputs": [],
      "source": [
        "# Show the table\n"
      ]
    },
    {
      "cell_type": "code",
      "execution_count": null,
      "metadata": {
        "id": "sNRe37p3FsUH"
      },
      "outputs": [],
      "source": [
        "# What is the range? Use built in functions to get the lowest and highest ages\n"
      ]
    },
    {
      "cell_type": "markdown",
      "metadata": {
        "id": "eMsyODe9FsUH"
      },
      "source": [
        "\n",
        "Split the \"`Age`\" column into the following bins"
      ]
    },
    {
      "cell_type": "code",
      "execution_count": null,
      "metadata": {
        "id": "hzZ16cKHFsUH"
      },
      "outputs": [],
      "source": [
        "# Create the bins\n",
        "my_bins = make_array(0, 5, 10, 15, 25, 40, 65, 100)"
      ]
    },
    {
      "cell_type": "code",
      "execution_count": null,
      "metadata": {
        "id": "fV4BF1o6FsUH"
      },
      "outputs": [],
      "source": [
        "# Bin the data\n",
        "binned_data = ...\n",
        "binned_data"
      ]
    },
    {
      "cell_type": "markdown",
      "metadata": {
        "id": "gI-LSDpzFsUH"
      },
      "source": [
        "You an also use `np.arange` to create regular bins of a fixed size or even just specify a number."
      ]
    },
    {
      "cell_type": "code",
      "execution_count": null,
      "metadata": {
        "id": "Bs-wxyj0FsUH"
      },
      "outputs": [],
      "source": [
        "# Demonstrate other ways to bin the data\n",
        "my_bins_another_way = top_movies.bin('Age', bins = np.arange(0,126,25))\n",
        "my_bins_another_way"
      ]
    },
    {
      "cell_type": "code",
      "execution_count": null,
      "metadata": {
        "id": "YJc9-tZrFsUH"
      },
      "outputs": [],
      "source": [
        "# Demonstrate other ways to bin the data\n",
        "my_bins_another_way = top_movies.bin('Age', bins = ...)\n",
        "my_bins_another_way"
      ]
    },
    {
      "cell_type": "markdown",
      "metadata": {},
      "source": [
        "If the `bins` argument isn't used, default is to produce 10 equally wide bins between the min and max values of the data."
      ]
    },
    {
      "cell_type": "markdown",
      "metadata": {
        "id": "v2gckdp5FsUH"
      },
      "source": [
        "## Histograms ##"
      ]
    },
    {
      "cell_type": "markdown",
      "metadata": {
        "id": "KeWMQ5aHFsUI"
      },
      "source": [
        "We can construct histograms of numerical variables by calling `tbl.hist(...)` function using our `bins`"
      ]
    },
    {
      "cell_type": "markdown",
      "metadata": {
        "id": "RnjEYumGFsUI"
      },
      "source": [
        "\n",
        "Make a histogram of `Age` using `my_bins`"
      ]
    },
    {
      "cell_type": "code",
      "execution_count": null,
      "metadata": {
        "id": "dOOQpCX0FsUI"
      },
      "outputs": [],
      "source": [
        "# What are my_bins from before?\n",
        "my_bins"
      ]
    },
    {
      "cell_type": "code",
      "execution_count": null,
      "metadata": {
        "id": "5KRqxgF4FsUI"
      },
      "outputs": [],
      "source": [
        "# Reminder of the data with original bins\n",
        "binned_data"
      ]
    },
    {
      "cell_type": "code",
      "execution_count": null,
      "metadata": {
        "id": "uxoLSvPOQmT9"
      },
      "outputs": [],
      "source": [
        "# Calculate percent of data for each age bin\n",
        "percent = 100 * binned_data.column('Age count') / binned_data.column('Age count').sum()\n",
        "percent"
      ]
    },
    {
      "cell_type": "code",
      "execution_count": null,
      "metadata": {
        "id": "f6Wn34MaKPAO"
      },
      "outputs": [],
      "source": [
        "# Add a column containing what percent of movies are in each bin\n",
        "binned_data = binned_data.with_column(\n",
        "    'percent', percent)\n",
        "binned_data"
      ]
    },
    {
      "cell_type": "code",
      "execution_count": null,
      "metadata": {
        "id": "sXtR0EtLFsUJ"
      },
      "outputs": [],
      "source": [
        "# Let's make our first histogram!\n",
        "top_movies.hist('Age', bins = my_bins, unit = 'Year')"
      ]
    },
    {
      "cell_type": "code",
      "execution_count": null,
      "metadata": {
        "id": "EEyY8bCyFsUK"
      },
      "outputs": [],
      "source": [
        "# Let's try equally spaced bins instead\n",
        "top_movies.hist('Age', bins = np.arange(0, 110, 10), unit = 'Year')"
      ]
    },
    {
      "cell_type": "code",
      "execution_count": null,
      "metadata": {
        "id": "k-GV2gcCFsUK"
      },
      "outputs": [],
      "source": [
        "# Let's try not specifying any bins\n",
        "top_movies.hist('Age', unit='Year')"
      ]
    },
    {
      "cell_type": "markdown",
      "metadata": {
        "id": "vHTsvK2VFsUK"
      },
      "source": [
        "## Height ##\n",
        "\n",
        "### Question: What is the height of the [40, 65) bin?"
      ]
    },
    {
      "cell_type": "code",
      "execution_count": null,
      "metadata": {
        "id": "YHnyh2ZYFsUK"
      },
      "outputs": [],
      "source": [
        "# Review the plot to remind ourselves what it looks like based on bins\n",
        "top_movies.hist('Age', bins=my_bins, unit='Year')\n",
        "binned_data"
      ]
    },
    {
      "cell_type": "code",
      "execution_count": null,
      "metadata": {
        "id": "haDjF-K1FsUL"
      },
      "outputs": [],
      "source": [
        "# Step 1: Calculate % of movies in the [40, 65) bin\n",
        "percent_bin = binned_data.where('bin',40).column('percent').item(0)\n",
        "percent_bin"
      ]
    },
    {
      "cell_type": "code",
      "execution_count": null,
      "metadata": {
        "id": "bldAfoz9FsUL"
      },
      "outputs": [],
      "source": [
        "# Step 2: Calculate the width of the 40-65 bin\n",
        "width = 65 - 40"
      ]
    },
    {
      "cell_type": "code",
      "execution_count": null,
      "metadata": {
        "id": "JJycYQL-FsUL"
      },
      "outputs": [],
      "source": [
        "# Step 3: Area of rectangle = height * width\n",
        "#         --> height = percent / width\n",
        "height = percent_bin / width\n",
        "height"
      ]
    },
    {
      "cell_type": "markdown",
      "metadata": {
        "id": "ezeijMf9FsUL"
      },
      "source": [
        "### What are the heights of the rest of the bins?"
      ]
    },
    {
      "cell_type": "code",
      "execution_count": null,
      "metadata": {
        "id": "EDHCOb2KFsUL"
      },
      "outputs": [],
      "source": [
        "# Get the bin left values (remove the last bin)\n",
        "bin_lefts = binned_data.take(np.arange(binned_data.num_rows - 1))\n",
        "bin_lefts"
      ]
    },
    {
      "cell_type": "code",
      "execution_count": null,
      "metadata": {
        "id": "AXu5Yk1LFsUL"
      },
      "outputs": [],
      "source": [
        "# Get the bin widths and add that to the table\n",
        "bin_widths = np.diff(binned_data.column('bin')) # demonstrate np.diff to do this\n",
        "bin_lefts = ...                                 # edit here\n",
        "bin_lefts"
      ]
    },
    {
      "cell_type": "code",
      "execution_count": null,
      "metadata": {
        "id": "Ud38LJ2OFsUM"
      },
      "outputs": [],
      "source": [
        "# Get the bin heights and add to the table\n",
        "bin_heights = ...           # do the calculation using our formula with code here\n",
        "bin_lefts = ...             # add the values to a column in the table"
      ]
    },
    {
      "cell_type": "code",
      "execution_count": null,
      "metadata": {
        "id": "DSde3hj8FsUM"
      },
      "outputs": [],
      "source": [
        "# Show the full table with bin, count, percent, width, and height\n",
        "bin_lefts"
      ]
    },
    {
      "cell_type": "code",
      "execution_count": null,
      "metadata": {
        "id": "9UVuN6XSFsUM"
      },
      "outputs": [],
      "source": [
        "# Plot histogram once more\n",
        "..."
      ]
    },
    {
      "cell_type": "markdown",
      "metadata": {
        "id": "X8dQpnMaFsUS"
      },
      "source": [
        "### Saving\n",
        "Remember to save your notebook before closing.\n",
        "Choose **Save** (and make sure you've already saved a copy in your drive) from the **File** menu."
      ]
    },
    {
      "cell_type": "markdown",
      "metadata": {
        "id": "IaDBVrZSFsUS"
      },
      "source": []
    }
  ],
  "metadata": {
    "anaconda-cloud": {},
    "colab": {
      "provenance": []
    },
    "kernelspec": {
      "display_name": "Python 3",
      "language": "python",
      "name": "python3"
    },
    "language_info": {
      "codemirror_mode": {
        "name": "ipython",
        "version": 3
      },
      "file_extension": ".py",
      "mimetype": "text/x-python",
      "name": "python",
      "nbconvert_exporter": "python",
      "pygments_lexer": "ipython3",
      "version": "3.8.5"
    }
  },
  "nbformat": 4,
  "nbformat_minor": 0
}
