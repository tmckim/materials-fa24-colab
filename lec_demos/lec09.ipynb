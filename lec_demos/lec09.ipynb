{
  "cells": [
    {
      "cell_type": "markdown",
      "metadata": {
        "id": "27CcYSR1FsT_"
      },
      "source": [
        "<a href=\"https://colab.research.google.com/github/tmckim/materials-fa24-colab/blob/main/lec_demos/lec09.ipynb\" target=\"_parent\"><img src=\"https://colab.research.google.com/assets/colab-badge.svg\" alt=\"Open In Colab\"/></a>"
      ]
    },
    {
      "cell_type": "markdown",
      "metadata": {
        "id": "P8-D3wz5FsUB"
      },
      "source": [
        "## Before you start - Save this notebook!\n",
        "\n",
        "When you open a new Colab notebook from the WebCampus (like you hopefully did for this one), you cannot save changes. So it's  best to store the Colab notebook in your personal drive `\"File > Save a copy in drive...\"` **before** you do anything else.\n",
        "\n",
        "The file will open in a new tab in your web browser, and it is automatically named something like: \"**Copy of lec09.ipynb**\". You can rename this to just the title of the assignment \"**lec09.ipynb**\". Make sure you do keep an informative name (like the name of the assignment) so that you know which files to submit back to WebCampus for grading! More instructions on this are at the end of the notebook.\n",
        "\n",
        "\n",
        "**Where does the notebook get saved in Google Drive?**\n",
        "\n",
        "By default, the notebook will be copied to a folder called “Colab Notebooks” at the root (home directory) of your Google Drive. If you use this for other courses or personal code notebooks, I recommend creating a folder for this course and then moving the assignments AFTER you have completed them. <br>\n",
        "\n",
        "I also recommend you give the folder where you save your notebooks^ a different name than the folder we create below that will store the notebook resources you need each time you work through a course notebook. This includes any data files you will need, links to the images that appear in the notebook, and the files associated with the autograder for answer checking.<br>\n",
        "You should select a name other than '**NS499-DataSci-course-materials**'. <br>\n",
        "This folder gets overwritten with each assignment you work on in the course, so you should **NOT** store your notebooks in this folder that we use for course materials! <br><br>For example, you could create a folder called 'NS499-**notebooks**' or something along those lines."
      ]
    },
    {
      "cell_type": "markdown",
      "metadata": {
        "id": "0T9wxx2oTQnO"
      },
      "source": [
        "# Import & Setup"
      ]
    },
    {
      "cell_type": "code",
      "execution_count": null,
      "metadata": {
        "colab": {
          "base_uri": "https://localhost:8080/"
        },
        "id": "VfLhcCUATQnO",
        "outputId": "bc7debe7-2163-4fa4-a80e-714d191d6434"
      },
      "outputs": [],
      "source": [
        "# Step 1\n",
        "# Setup and add files needed to access gdrive\n",
        "from google.colab import drive                                   # these lines mount your gdrive to access the files we import below\n",
        "drive.mount('/content/gdrive', force_remount=True)"
      ]
    },
    {
      "cell_type": "code",
      "execution_count": 2,
      "metadata": {
        "id": "mwXN0ja8TQnP"
      },
      "outputs": [],
      "source": [
        "# Step 2\n",
        "# Change directory to the correct location in gdrive (modified way to do this from before)\n",
        "import os\n",
        "os.chdir('/content/gdrive/MyDrive/NS499-DataSci-course-materials/')"
      ]
    },
    {
      "cell_type": "code",
      "execution_count": null,
      "metadata": {
        "id": "cGhNn3N1TQnP"
      },
      "outputs": [],
      "source": [
        "# Step 3\n",
        "# Remove the files that were previously there- we will replace with all the old + new ones for this assignment\n",
        "!rm -r materials-fa24-colab"
      ]
    },
    {
      "cell_type": "code",
      "execution_count": null,
      "metadata": {
        "id": "Y9CzbUS4TQnQ"
      },
      "outputs": [],
      "source": [
        "# Step 4\n",
        "# These lines clone (copy) all the files you will need from where I store the code+data for the course (github)\n",
        "# Second part of the code copies the files to this location and folder in your own gdrive\n",
        "!git clone https://github.com/tmckim/materials-fa24-colab '/content/gdrive/My Drive/NS499-DataSci-course-materials/materials-fa24-colab/'"
      ]
    },
    {
      "cell_type": "code",
      "execution_count": 3,
      "metadata": {
        "id": "T9rJhImxTQnQ"
      },
      "outputs": [],
      "source": [
        "# Step 5\n",
        "# Change directory into the folder where the resources for this assignment are stored in gdrive (modified way from before)\n",
        "os.chdir('/content/gdrive/MyDrive/NS499-DataSci-course-materials/materials-fa24-colab/lec_demos/')"
      ]
    },
    {
      "cell_type": "code",
      "execution_count": 4,
      "metadata": {
        "id": "lt9wOLfITQnQ"
      },
      "outputs": [],
      "source": [
        "# Import packages and other things needed\n",
        "# Don't change this cell; Just run this cell\n",
        "# If you restart colab, make sure to run this cell again after the first ones above^\n",
        "\n",
        "from datascience import *\n",
        "import numpy as np\n",
        "import warnings\n",
        "warnings.filterwarnings(\"ignore\")\n",
        "\n",
        "%matplotlib inline\n",
        "import matplotlib.pyplot as plt\n",
        "plt.style.use(\"fivethirtyeight\")\n",
        "plt.rcParams[\"patch.force_edgecolor\"] = True"
      ]
    },
    {
      "cell_type": "markdown",
      "metadata": {
        "id": "X84Q6ZBGTQnQ"
      },
      "source": [
        "#### Today's Lecture\n",
        "\n",
        "In today's lecture, you'll learn how to:\n",
        "\n",
        "1. define functions\n",
        "2. return expressions\n",
        "3. use functions with multiple input arguments\n",
        "4. use `apply` to apply functions to data we will work with in tables"
      ]
    },
    {
      "cell_type": "markdown",
      "metadata": {
        "id": "Cc0SP2YGTQnQ"
      },
      "source": [
        "## Review: Histograms"
      ]
    },
    {
      "cell_type": "markdown",
      "metadata": {
        "id": "JhB_FOo-TQnR"
      },
      "source": [
        "Calculating area (percent):\n",
        "\n",
        "Area of a bar (%) = Height * Bin Width"
      ]
    },
    {
      "cell_type": "code",
      "execution_count": null,
      "metadata": {
        "id": "bldAfoz9FsUL"
      },
      "outputs": [],
      "source": [
        "# Calculating bin width: [40,65)\n",
        "# Previous example from lec 08, where percent = 28.64"
      ]
    },
    {
      "cell_type": "code",
      "execution_count": null,
      "metadata": {
        "colab": {
          "base_uri": "https://localhost:8080/"
        },
        "id": "JJycYQL-FsUL",
        "outputId": "e5835aae-9ad1-4858-f07b-b7cf3bee0106"
      },
      "outputs": [],
      "source": [
        "# Area of rectangle = height * width\n",
        "# rearrange so that  --> height = percent / width\n"
      ]
    },
    {
      "cell_type": "markdown",
      "metadata": {
        "id": "IhXffKS8FsUM"
      },
      "source": [
        "## Defining Functions ##  "
      ]
    },
    {
      "cell_type": "markdown",
      "metadata": {
        "id": "6evJV4yFFsUM"
      },
      "source": [
        "Example: Create a function that takes a numerical input and triples it: $\\textsf{triple}(x)=3\\,x$"
      ]
    },
    {
      "cell_type": "code",
      "execution_count": 5,
      "metadata": {
        "id": "Qlxh9EJEFsUN"
      },
      "outputs": [],
      "source": [
        "# Define our first function\n",
        "def ..."
      ]
    },
    {
      "cell_type": "code",
      "execution_count": null,
      "metadata": {
        "colab": {
          "base_uri": "https://localhost:8080/"
        },
        "id": "EZSzmFTpFsUN",
        "outputId": "3e332d09-c11b-49ca-b0c3-9929f143fa2d"
      },
      "outputs": [],
      "source": [
        "# Call and run this function\n",
        "..."
      ]
    },
    {
      "cell_type": "markdown",
      "metadata": {
        "id": "ecR2XrilFsUN"
      },
      "source": [
        "We can also assign a value to a name, and call the function on the name:"
      ]
    },
    {
      "cell_type": "code",
      "execution_count": 7,
      "metadata": {
        "id": "diKHdi_lFsUN"
      },
      "outputs": [],
      "source": [
        "num = 4"
      ]
    },
    {
      "cell_type": "code",
      "execution_count": null,
      "metadata": {
        "colab": {
          "base_uri": "https://localhost:8080/"
        },
        "id": "aaG1aGUiFsUN",
        "outputId": "e97e72fb-7ebe-4956-ba9e-403cfb825aed"
      },
      "outputs": [],
      "source": [
        "# Function with input num as argument\n",
        "..."
      ]
    },
    {
      "cell_type": "code",
      "execution_count": null,
      "metadata": {
        "colab": {
          "base_uri": "https://localhost:8080/"
        },
        "id": "dGGQ78G-FsUN",
        "outputId": "eb788c1c-e424-4d37-9585-0f2b85c53a8c"
      },
      "outputs": [],
      "source": [
        "# More interesting expressions- multiply num by 5 as an input to the function\n",
        "..."
      ]
    },
    {
      "cell_type": "markdown",
      "metadata": {
        "id": "IyD4N1ZkFsUO"
      },
      "source": [
        "## The Anatomy of a Function ##  \n",
        "    \n",
        "```python\n",
        "def functionname(Arguments_Parameters_Expressions_or_Values):     \n",
        "      return return_expression\n",
        "```"
      ]
    },
    {
      "cell_type": "markdown",
      "metadata": {
        "id": "h2-ujkQNFsUO"
      },
      "source": [
        "## Functions are Type-Agnostic  ##"
      ]
    },
    {
      "cell_type": "code",
      "execution_count": null,
      "metadata": {
        "colab": {
          "base_uri": "https://localhost:8080/",
          "height": 36
        },
        "id": "1eOqc_-sFsUO",
        "outputId": "1c41a54d-e177-454b-b763-cae5614eb0f3"
      },
      "outputs": [],
      "source": [
        "# Input string as an argument to our function\n"
      ]
    },
    {
      "cell_type": "code",
      "execution_count": null,
      "metadata": {
        "colab": {
          "base_uri": "https://localhost:8080/"
        },
        "id": "73Dd1V1IFsUO",
        "outputId": "d7b1e4f1-2c42-4a76-99bc-a7e4f6d4404f"
      },
      "outputs": [],
      "source": [
        "# Create an array and view the numbers\n"
      ]
    },
    {
      "cell_type": "markdown",
      "metadata": {
        "id": "3XXl8efoFsUO"
      },
      "source": [
        "Feed the array above into our function `triple` to see what is produced:"
      ]
    },
    {
      "cell_type": "code",
      "execution_count": null,
      "metadata": {
        "colab": {
          "base_uri": "https://localhost:8080/"
        },
        "id": "ktKs0jCxFsUO",
        "outputId": "81e1c51e-4d66-4e4f-89e6-531b7d638e81"
      },
      "outputs": [],
      "source": [
        "# Input an array as an argument to our function\n"
      ]
    },
    {
      "cell_type": "markdown",
      "metadata": {
        "id": "F5eGk5UaFsUP"
      },
      "source": [
        "### Discussion ###\n",
        "\n",
        "- What does the following function do?\n",
        "- What type of input does it take?\n",
        "- What type of output does it produce?\n",
        "- What's a good name for the function?\n",
        "\n",
        "```python\n",
        "def f(s):     \n",
        "      return np.round(s / sum(s) * 100, 2)\n",
        "```"
      ]
    },
    {
      "cell_type": "code",
      "execution_count": 15,
      "metadata": {
        "id": "fpITX9jsFsUP"
      },
      "outputs": [],
      "source": [
        "# Define our function\n",
        "def f(s):\n",
        "    \"\"\" \n",
        "    The docustring with info about this function would go here.\n",
        "\n",
        "    \"\"\"\n",
        "    return np.round(s / sum(s) * 100, 2)"
      ]
    },
    {
      "cell_type": "code",
      "execution_count": null,
      "metadata": {
        "colab": {
          "base_uri": "https://localhost:8080/"
        },
        "id": "3JWeTqtMFsUP",
        "outputId": "19093399-9ab1-49dd-c7f7-7b8b29b7c556"
      },
      "outputs": [],
      "source": [
        "# Make an array\n",
        "first_four=make_array(1,2,3,4)\n",
        "first_four"
      ]
    },
    {
      "cell_type": "code",
      "execution_count": null,
      "metadata": {
        "colab": {
          "base_uri": "https://localhost:8080/"
        },
        "id": "WkJ75YGaFsUP",
        "outputId": "26ec3796-0f72-473a-e43e-722bf30eee5d"
      },
      "outputs": [],
      "source": [
        "# Input array name as an argument to our function\n"
      ]
    },
    {
      "cell_type": "code",
      "execution_count": null,
      "metadata": {
        "colab": {
          "base_uri": "https://localhost:8080/"
        },
        "id": "n5cRRLLuFsUP",
        "outputId": "3a7a460b-4418-4b54-a564-3511c01380dc"
      },
      "outputs": [],
      "source": [
        "# Input a different array as an argument to our function - making the array in the function call\n"
      ]
    },
    {
      "cell_type": "markdown",
      "metadata": {
        "id": "PU3rKlrUFsUP"
      },
      "source": [
        "### Functions Can Take Multiple Arguments ###"
      ]
    },
    {
      "cell_type": "markdown",
      "metadata": {
        "id": "B0MA2VwRFsUP"
      },
      "source": [
        "Example: Calculate the Hypotenuse Length of a Right Triangle\n",
        "\n",
        "\n",
        "Pythagoras's Theorem: If $x$ and $y$ denote the lengths of the right-angle sides, then the hypotenuse length $h$ satisfies:\n",
        "\n",
        "$$ h^2 = x^2 + y^2 \\qquad \\text{which implies}\\qquad \\hspace{20 pt} h = \\sqrt{ x^2 + y^2 } $$"
      ]
    },
    {
      "cell_type": "code",
      "execution_count": 18,
      "metadata": {
        "id": "bkJaf1sKFsUQ"
      },
      "outputs": [],
      "source": [
        "# Define our function with two arguments\n",
        "def ...\n"
      ]
    },
    {
      "cell_type": "code",
      "execution_count": null,
      "metadata": {
        "colab": {
          "base_uri": "https://localhost:8080/"
        },
        "id": "NSnXg5n4FsUQ",
        "outputId": "9240b5c5-2731-485a-f4aa-bacf4df12b8e"
      },
      "outputs": [],
      "source": [
        "# Test out our function with values\n",
        "..."
      ]
    },
    {
      "cell_type": "code",
      "execution_count": null,
      "metadata": {
        "colab": {
          "base_uri": "https://localhost:8080/"
        },
        "id": "6yrZtBQfFsUQ",
        "outputId": "8dc507a0-c360-4986-f070-de649ee77b86"
      },
      "outputs": [],
      "source": [
        "# Run our function with different values\n",
        "..."
      ]
    },
    {
      "cell_type": "markdown",
      "metadata": {
        "id": "Z89o3qq9FsUQ"
      },
      "source": [
        "We could've typed the body all in one line. Do you find this more readable or less readable than the original version?"
      ]
    },
    {
      "cell_type": "code",
      "execution_count": 21,
      "metadata": {
        "id": "qj8lU9YnFsUQ"
      },
      "outputs": [],
      "source": [
        "# Another way to write our function\n",
        "def ..."
      ]
    },
    {
      "cell_type": "code",
      "execution_count": null,
      "metadata": {
        "colab": {
          "base_uri": "https://localhost:8080/"
        },
        "id": "lmwiT97JFsUQ",
        "outputId": "ba8b9a28-e21a-47df-a07c-7fd3fe1a199c"
      },
      "outputs": [],
      "source": [
        "# Test it out\n",
        "..."
      ]
    },
    {
      "cell_type": "markdown",
      "metadata": {
        "id": "pblumEabFsUR"
      },
      "source": [
        "### Example: A function that takes the year of birth of a person and produces their age in years. ###"
      ]
    },
    {
      "cell_type": "code",
      "execution_count": 23,
      "metadata": {
        "id": "5jDX1QksFsUR"
      },
      "outputs": [],
      "source": [
        "# Define our age function\n",
        "def ..."
      ]
    },
    {
      "cell_type": "code",
      "execution_count": null,
      "metadata": {
        "colab": {
          "base_uri": "https://localhost:8080/"
        },
        "id": "fo1txWX4FsUR",
        "outputId": "4515b439-2ff8-456e-ba58-13270bea1ea3"
      },
      "outputs": [],
      "source": [
        "# Run our function\n"
      ]
    },
    {
      "cell_type": "markdown",
      "metadata": {
        "id": "givLLcc5FsUR"
      },
      "source": [
        "Now add some bells and whistles:  Take person's name and year of birth (two arguments). Produce a sentence that states how old they are."
      ]
    },
    {
      "cell_type": "code",
      "execution_count": 25,
      "metadata": {
        "id": "a971qqy0FsUR"
      },
      "outputs": [],
      "source": [
        "# A more refined function with two arguments\n",
        "def ..."
      ]
    },
    {
      "cell_type": "code",
      "execution_count": null,
      "metadata": {
        "colab": {
          "base_uri": "https://localhost:8080/",
          "height": 36
        },
        "id": "-uE-4m9UFsUR",
        "outputId": "99ed3b6a-1866-4b68-9bd3-e895d62e0428"
      },
      "outputs": [],
      "source": [
        "# Run our function to see what it returns\n"
      ]
    },
    {
      "cell_type": "markdown",
      "metadata": {
        "id": "vKxlZS36FsUR"
      },
      "source": [
        "## Apply ##"
      ]
    },
    {
      "cell_type": "code",
      "execution_count": null,
      "metadata": {
        "colab": {
          "base_uri": "https://localhost:8080/",
          "height": 174
        },
        "id": "TocLRg2XFsUS",
        "outputId": "49b33c28-5b2d-4da6-d483-154e92d8886f"
      },
      "outputs": [],
      "source": [
        "# A table with office characters\n",
        "ages = Table().with_columns(\n",
        "    'Person', make_array('Jim', 'Pam', 'Michael', 'Creed'),\n",
        "    'Birth Year', make_array(1985, 1988, 1967, 1904)\n",
        ")\n",
        "ages"
      ]
    },
    {
      "cell_type": "code",
      "execution_count": null,
      "metadata": {
        "colab": {
          "base_uri": "https://localhost:8080/"
        },
        "id": "fpe9jg3sFsUS",
        "outputId": "696a1137-8bba-4df1-ab94-46536006255a"
      },
      "outputs": [],
      "source": [
        "# Use our age function on each column\n",
        "..."
      ]
    },
    {
      "cell_type": "code",
      "execution_count": null,
      "metadata": {
        "colab": {
          "base_uri": "https://localhost:8080/"
        },
        "id": "ZfcVH7sQFsUS",
        "outputId": "30824a69-1ea9-4372-b235-bdbf35bdec45"
      },
      "outputs": [],
      "source": [
        "# Use the apply function to run it on the entire table\n",
        "..."
      ]
    },
    {
      "cell_type": "code",
      "execution_count": null,
      "metadata": {
        "colab": {
          "base_uri": "https://localhost:8080/"
        },
        "id": "KsrYbsH0FsUS",
        "outputId": "1900455c-8e4f-495b-ca45-ee9fba0286c6"
      },
      "outputs": [],
      "source": [
        "# Run our other function using apply\n",
        "..."
      ]
    },
    {
      "cell_type": "markdown",
      "metadata": {
        "id": "X8dQpnMaFsUS"
      },
      "source": [
        "### Saving\n",
        "Remember to save your notebook before closing.\n",
        "Choose **Save** (and make sure you've already saved a copy in your drive) from the **File** menu."
      ]
    },
    {
      "cell_type": "markdown",
      "metadata": {
        "id": "IaDBVrZSFsUS"
      },
      "source": []
    }
  ],
  "metadata": {
    "anaconda-cloud": {},
    "colab": {
      "provenance": []
    },
    "kernelspec": {
      "display_name": "Python 3",
      "language": "python",
      "name": "python3"
    },
    "language_info": {
      "codemirror_mode": {
        "name": "ipython",
        "version": 3
      },
      "file_extension": ".py",
      "mimetype": "text/x-python",
      "name": "python",
      "nbconvert_exporter": "python",
      "pygments_lexer": "ipython3",
      "version": "3.12.3"
    }
  },
  "nbformat": 4,
  "nbformat_minor": 0
}
