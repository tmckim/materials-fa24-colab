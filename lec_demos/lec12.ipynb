{
  "cells": [
    {
      "cell_type": "markdown",
      "metadata": {
        "id": "ml2I5wZ_U6WO"
      },
      "source": [
        "<a href=\"https://colab.research.google.com/github/tmckim/materials-fa24-colab/blob/main/lec_demos/lec12.ipynb\" target=\"_parent\"><img src=\"https://colab.research.google.com/assets/colab-badge.svg\" alt=\"Open In Colab\"/></a>"
      ]
    },
    {
      "cell_type": "markdown",
      "metadata": {
        "id": "EiU1HDGvU6WR"
      },
      "source": [
        "## Before you start - Save this notebook!\n",
        "\n",
        "When you open a new Colab notebook from the WebCampus (like you hopefully did for this one), you cannot save changes. So it's  best to store the Colab notebook in your personal drive `\"File > Save a copy in drive...\"` **before** you do anything else.\n",
        "\n",
        "The file will open in a new tab in your web browser, and it is automatically named something like: \"**Copy of lec12.ipynb**\". You can rename this to just the title of the assignment \"**lec12.ipynb**\". Make sure you do keep an informative name (like the name of the assignment) so that you know which files to submit back to WebCampus for grading! More instructions on this are at the end of the notebook.\n",
        "\n",
        "\n",
        "**Where does the notebook get saved in Google Drive?**\n",
        "\n",
        "By default, the notebook will be copied to a folder called “Colab Notebooks” at the root (home directory) of your Google Drive. If you use this for other courses or personal code notebooks, I recommend creating a folder for this course and then moving the assignments AFTER you have completed them. <br>\n",
        "\n",
        "I also recommend you give the folder where you save your notebooks^ a different name than the folder we create below that will store the notebook resources you need each time you work through a course notebook. This includes any data files you will need, links to the images that appear in the notebook, and the files associated with the autograder for answer checking.<br>\n",
        "You should select a name other than '**NS499-DataSci-course-materials**'. <br>\n",
        "This folder gets overwritten with each assignment you work on in the course, so you should **NOT** store your notebooks in this folder that we use for course materials! <br><br>For example, you could create a folder called 'NS499-**notebooks**' or something along those lines.\n",
        "___"
      ]
    },
    {
      "cell_type": "markdown",
      "metadata": {
        "id": "uas1T3KEMdx3"
      },
      "source": [
        "# Import & Setup"
      ]
    },
    {
      "cell_type": "code",
      "execution_count": null,
      "metadata": {
        "colab": {
          "base_uri": "https://localhost:8080/"
        },
        "id": "3rcGKuwrMdx4",
        "outputId": "76f6a3f5-69b0-4f39-8be5-9f0897fb9b2e"
      },
      "outputs": [],
      "source": [
        "# Step 1\n",
        "# Setup and add files needed to access gdrive\n",
        "from google.colab import drive                                   # these lines mount your gdrive to access the files we import below\n",
        "drive.mount('/content/gdrive', force_remount=True)"
      ]
    },
    {
      "cell_type": "code",
      "execution_count": 2,
      "metadata": {
        "id": "QLyxhdTaMdx5"
      },
      "outputs": [],
      "source": [
        "# Step 2\n",
        "# Change directory to the correct location in gdrive (modified way to do this from before)\n",
        "import os\n",
        "os.chdir('/content/gdrive/MyDrive/NS499-DataSci-course-materials/')"
      ]
    },
    {
      "cell_type": "code",
      "execution_count": null,
      "metadata": {
        "id": "GWqULSmhMdx5"
      },
      "outputs": [],
      "source": [
        "# Step 3\n",
        "# Remove the files that were previously there- we will replace with all the old + new ones for this assignment\n",
        "!rm -r materials-fa24-colab"
      ]
    },
    {
      "cell_type": "code",
      "execution_count": null,
      "metadata": {
        "id": "nRJarG-oMdx5"
      },
      "outputs": [],
      "source": [
        "# Step 4\n",
        "# These lines clone (copy) all the files you will need from where I store the code+data for the course (github)\n",
        "# Second part of the code copies the files to this location and folder in your own gdrive\n",
        "!git clone https://github.com/tmckim/materials-fa24-colab '/content/gdrive/My Drive/NS499-DataSci-course-materials/materials-fa24-colab/'"
      ]
    },
    {
      "cell_type": "code",
      "execution_count": 3,
      "metadata": {
        "id": "LJpSwy_YMdx5"
      },
      "outputs": [],
      "source": [
        "# Step 5\n",
        "# Change directory into the folder where the resources for this assignment are stored in gdrive (modified way from before)\n",
        "os.chdir('/content/gdrive/MyDrive/NS499-DataSci-course-materials/materials-fa24-colab/lec_demos/')"
      ]
    },
    {
      "cell_type": "code",
      "execution_count": 4,
      "metadata": {
        "id": "8IwbcvjtMdx5"
      },
      "outputs": [],
      "source": [
        "# Import packages and other things needed\n",
        "# Don't change this cell; Just run this cell\n",
        "# If you restart colab, make sure to run this cell again after the first ones above^\n",
        "\n",
        "from datascience import *\n",
        "import numpy as np\n",
        "import warnings\n",
        "warnings.simplefilter(action='ignore',category=np.VisibleDeprecationWarning)\n",
        "\n",
        "%matplotlib inline\n",
        "import matplotlib.pyplot as plt\n",
        "plt.style.use(\"fivethirtyeight\")\n",
        "plt.rcParams[\"patch.force_edgecolor\"] = True"
      ]
    },
    {
      "cell_type": "markdown",
      "metadata": {
        "id": "jMHqHNmyU6WU"
      },
      "source": [
        "## Learning Objectives"
      ]
    },
    {
      "cell_type": "markdown",
      "metadata": {
        "id": "P-uR6FmDU6WU"
      },
      "source": [
        "\n",
        "Topics:\n",
        "- Reviewing table methods like `join`, `group`, `pivot` and `apply`\n",
        "- conditional statements"
      ]
    },
    {
      "cell_type": "markdown",
      "metadata": {
        "id": "rAlBzdlxU6WU"
      },
      "source": [
        "## A Join Example ##"
      ]
    },
    {
      "cell_type": "code",
      "execution_count": null,
      "metadata": {
        "colab": {
          "base_uri": "https://localhost:8080/",
          "height": 173
        },
        "id": "AvsCu1enU6WU",
        "outputId": "45c52a2a-d64c-4528-edf5-e1f67c9c1b40"
      },
      "outputs": [],
      "source": [
        "# One table\n",
        "full = Table.read_table('nc-est2019-agesex-res.csv')\n",
        "census = full.select('SEX', 'AGE', 'POPESTIMATE2019')\n",
        "census.show(3)"
      ]
    },
    {
      "cell_type": "code",
      "execution_count": null,
      "metadata": {
        "colab": {
          "base_uri": "https://localhost:8080/",
          "height": 143
        },
        "id": "Qi5xJxTJU6WU",
        "outputId": "13518ccd-8411-4a68-e033-041a75e2cf29"
      },
      "outputs": [],
      "source": [
        "# A second table\n",
        "sex_codes = Table().with_columns(\n",
        "    'SEX CODE', make_array(0, 1, 2),\n",
        "    'CODE DEFINITION', make_array('All', 'Selected Male', 'Selected Female')\n",
        ")\n",
        "sex_codes"
      ]
    },
    {
      "cell_type": "code",
      "execution_count": null,
      "metadata": {
        "colab": {
          "base_uri": "https://localhost:8080/",
          "height": 392
        },
        "id": "OGguZLU5U6WU",
        "outputId": "a9443cf6-96a4-4e31-c58a-f29305656cab"
      },
      "outputs": [],
      "source": [
        "# Join the tables\n",
        "..."
      ]
    },
    {
      "cell_type": "markdown",
      "metadata": {
        "id": "NruYri69U6WV"
      },
      "source": [
        "## Bike Sharing ##"
      ]
    },
    {
      "cell_type": "markdown",
      "metadata": {
        "id": "5sKLxXOXxWBH"
      },
      "source": [
        "This dataset includes: <br>\n",
        "\n",
        "An ID for the rental\n",
        "\n",
        "Duration of the rental, in seconds\n",
        "\n",
        "Start date\n",
        "\n",
        "Name of the Start Station and code for Start Terminal\n",
        "\n",
        "Name of the End Station and code for End Terminal\n",
        "\n",
        "A serial number for the bike\n",
        "\n",
        "Subscriber type and zip code"
      ]
    },
    {
      "cell_type": "code",
      "execution_count": null,
      "metadata": {
        "colab": {
          "base_uri": "https://localhost:8080/",
          "height": 242
        },
        "id": "5TtbCXMvU6WV",
        "outputId": "2917fdd9-4ec4-4691-9e40-c2b0256d31b8"
      },
      "outputs": [],
      "source": [
        "# Read in the trip data from csv file\n",
        "trip = Table.read_table('trip.csv')\n",
        "trip.show(3)"
      ]
    },
    {
      "cell_type": "markdown",
      "metadata": {
        "id": "cjRI6UVAU6WV"
      },
      "source": [
        "## Distribution of Durations ##"
      ]
    },
    {
      "cell_type": "code",
      "execution_count": null,
      "metadata": {
        "colab": {
          "base_uri": "https://localhost:8080/",
          "height": 493
        },
        "id": "Z5pzh1vvU6WV",
        "outputId": "eb012739-2467-4abf-9e52-55562a2e660d"
      },
      "outputs": [],
      "source": [
        "# Visualize the durations (seconds)\n",
        "trip.hist('Duration')"
      ]
    },
    {
      "cell_type": "markdown",
      "metadata": {
        "id": "TlQ6QiVxZfoS"
      },
      "source": [
        "Why does the histogram look like this?"
      ]
    },
    {
      "cell_type": "code",
      "execution_count": null,
      "metadata": {
        "colab": {
          "base_uri": "https://localhost:8080/",
          "height": 583
        },
        "id": "H8U64W_AU6WV",
        "outputId": "7de4bc51-a94a-4143-9aa3-a7d61d90f0e8"
      },
      "outputs": [],
      "source": [
        "# Sort by duration with largest values first\n",
        "..."
      ]
    },
    {
      "cell_type": "markdown",
      "metadata": {
        "id": "RcZxib7gyBKP"
      },
      "source": [
        "Note how long it could be- in this first row, ~200 days!"
      ]
    },
    {
      "cell_type": "code",
      "execution_count": null,
      "metadata": {
        "colab": {
          "base_uri": "https://localhost:8080/",
          "height": 410
        },
        "id": "hIV3V2piU6WV",
        "outputId": "3978994d-2328-43d5-a5aa-031e3a2d2c4d"
      },
      "outputs": [],
      "source": [
        "# Just trips under 30 mins (free ride length, 1800 secs)\n",
        "commute = ...                                   \n",
        "..."
      ]
    },
    {
      "cell_type": "markdown",
      "metadata": {
        "id": "znEWYlBSaU1_"
      },
      "source": [
        "Why are there not any values right after 0?<br>Hint: there was a minimum time limit"
      ]
    },
    {
      "cell_type": "code",
      "execution_count": null,
      "metadata": {
        "colab": {
          "base_uri": "https://localhost:8080/",
          "height": 410
        },
        "id": "2T63zcluU6WV",
        "outputId": "9fe9be2c-b3f7-4fee-94e4-7191a2e2d4f2"
      },
      "outputs": [],
      "source": [
        "# Now specify bins instead of letting hist automatically pick it\n",
        "commute.hist('Duration', bins=np.arange(0, 1800, 250), unit='Second')"
      ]
    },
    {
      "cell_type": "markdown",
      "metadata": {
        "id": "i-sMVJXZax3R"
      },
      "source": [
        "Based on the histogram, can you approximate the percent of people who have a ride duration between 250 and 500 seconds? <br>\n",
        "Hint: Think about what formula you need and what information you have."
      ]
    },
    {
      "cell_type": "code",
      "execution_count": null,
      "metadata": {},
      "outputs": [],
      "source": [
        "# area = bin width * height\n",
        "\n"
      ]
    },
    {
      "cell_type": "markdown",
      "metadata": {
        "id": "C7urk_UbbWoQ"
      },
      "source": [
        "Calculating the exact value:"
      ]
    },
    {
      "cell_type": "code",
      "execution_count": null,
      "metadata": {
        "colab": {
          "base_uri": "https://localhost:8080/"
        },
        "id": "0GJ3LZbsU6WV",
        "outputId": "8650d1ed-2053-41d2-bb2b-dce9c465305f"
      },
      "outputs": [],
      "source": [
        "# Get the number of rows using .where\n",
        "..."
      ]
    },
    {
      "cell_type": "code",
      "execution_count": null,
      "metadata": {
        "colab": {
          "base_uri": "https://localhost:8080/"
        },
        "id": "nCIE6J42U6WV",
        "outputId": "e81645da-9ec0-44d2-b9bf-9d914ca16106"
      },
      "outputs": [],
      "source": [
        "# take number of trips from the duration window and divide by the number of rows in the table\n",
        "# gives us percentage in that interval\n",
        "..."
      ]
    },
    {
      "cell_type": "code",
      "execution_count": null,
      "metadata": {
        "colab": {
          "base_uri": "https://localhost:8080/",
          "height": 410
        },
        "id": "v907WA4HU6WW",
        "outputId": "5773bbae-7acd-4b56-c9fb-fd58567e4dc8"
      },
      "outputs": [],
      "source": [
        "# Same code as above to plot with these bins\n",
        "commute.hist('Duration', bins=np.arange(0, 1800, 250), unit='Second')"
      ]
    },
    {
      "cell_type": "code",
      "execution_count": null,
      "metadata": {
        "colab": {
          "base_uri": "https://localhost:8080/",
          "height": 410
        },
        "id": "m9DRLZ84U6WW",
        "outputId": "58edc7fd-2162-4b5b-9fa4-061b136611a9"
      },
      "outputs": [],
      "source": [
        "# Now put in 60 bins for comparison\n",
        "..."
      ]
    },
    {
      "cell_type": "markdown",
      "metadata": {
        "id": "A7zvNrrXySwF"
      },
      "source": [
        "Note that we can also specify a larger number of bins, but the overall shape of the distribution doesn't change much."
      ]
    },
    {
      "cell_type": "markdown",
      "metadata": {
        "id": "BHXtaaHmU6WW"
      },
      "source": [
        "## Start and End Stations ##"
      ]
    },
    {
      "cell_type": "markdown",
      "metadata": {},
      "source": [
        "If we want to find the most common start stations, we can use `group` to find the count for each."
      ]
    },
    {
      "cell_type": "code",
      "execution_count": null,
      "metadata": {
        "colab": {
          "base_uri": "https://localhost:8080/",
          "height": 392
        },
        "id": "mANs0l30U6WW",
        "outputId": "35e9a667-2dba-4f88-db8e-6f902e30c805"
      },
      "outputs": [],
      "source": [
        "# Most common start station\n",
        "# group finds unique values of the Start Station and gets the count of those\n",
        "starts = ..."
      ]
    },
    {
      "cell_type": "markdown",
      "metadata": {
        "id": "H3YSctpodxkm"
      },
      "source": [
        "What could we use to look at trips between stations?"
      ]
    },
    {
      "cell_type": "markdown",
      "metadata": {},
      "source": [
        "Using `group`:\n"
      ]
    },
    {
      "cell_type": "code",
      "execution_count": null,
      "metadata": {
        "colab": {
          "base_uri": "https://localhost:8080/",
          "height": 392
        },
        "id": "4j2WOyM8d1rT",
        "outputId": "326765ef-9b9b-4615-ee1d-8b4e2a37d1fc"
      },
      "outputs": [],
      "source": [
        "..."
      ]
    },
    {
      "cell_type": "markdown",
      "metadata": {},
      "source": [
        "Using `pivot`:"
      ]
    },
    {
      "cell_type": "code",
      "execution_count": null,
      "metadata": {
        "colab": {
          "base_uri": "https://localhost:8080/",
          "height": 846
        },
        "id": "86ELJSYIU6WW",
        "outputId": "9cc40527-c6da-4a90-d1bc-ccaaa09c3d2c"
      },
      "outputs": [],
      "source": [
        "..."
      ]
    },
    {
      "cell_type": "markdown",
      "metadata": {
        "id": "QNmMB8LgeTfl"
      },
      "source": [
        "Why are there so many zeros? Anything you remember about what portion of the dataset we are using?"
      ]
    },
    {
      "cell_type": "markdown",
      "metadata": {
        "id": "YL9x6eKIee9g"
      },
      "source": [
        "Let's practice some more using `pivot`. <br>\n",
        "Let's look at the average duration for the combination of start and end stations."
      ]
    },
    {
      "cell_type": "code",
      "execution_count": null,
      "metadata": {
        "colab": {
          "base_uri": "https://localhost:8080/",
          "height": 846
        },
        "id": "xP4dR_dfU6WW",
        "outputId": "5a783e8d-117c-45d2-87a4-f04ace91a852"
      },
      "outputs": [],
      "source": [
        "# Average durations of trips between stations\n",
        "..."
      ]
    },
    {
      "cell_type": "code",
      "execution_count": null,
      "metadata": {
        "colab": {
          "base_uri": "https://localhost:8080/",
          "height": 846
        },
        "id": "foQNKQQge9cf",
        "outputId": "ca81691a-9d68-4860-d1a5-8fa363513f33"
      },
      "outputs": [],
      "source": [
        "# Shortest time of rides between start and end stations\n",
        "..."
      ]
    },
    {
      "cell_type": "markdown",
      "metadata": {
        "id": "JnS9jyR3iDot"
      },
      "source": [
        "What if we wanted to put multiple numbers in our table that include the min and the max?<br>\n",
        "Let's practice writing our own function to do this, and using it with `pivot`"
      ]
    },
    {
      "cell_type": "code",
      "execution_count": 31,
      "metadata": {
        "id": "9ygH7BIrf1SH"
      },
      "outputs": [],
      "source": [
        "# Define our own function and test it out\n",
        "def min_and_max(values):\n",
        "  return ..."
      ]
    },
    {
      "cell_type": "code",
      "execution_count": null,
      "metadata": {
        "colab": {
          "base_uri": "https://localhost:8080/",
          "height": 846
        },
        "id": "91ad-3M-gAgP",
        "outputId": "89889e2f-dafc-4ec8-a433-faaeee679850"
      },
      "outputs": [],
      "source": [
        "# Use pivot with our min_and_max function \n",
        "..."
      ]
    },
    {
      "cell_type": "markdown",
      "metadata": {
        "id": "h1-KiLIWU6WW"
      },
      "source": [
        "How can we find the fastest trip ever between each pair of stations using group?"
      ]
    },
    {
      "cell_type": "code",
      "execution_count": null,
      "metadata": {
        "colab": {
          "base_uri": "https://localhost:8080/",
          "height": 392
        },
        "id": "NOqpcv6mU6WW",
        "outputId": "7a8f817c-9e35-47d3-bb2e-6d0e21a66525"
      },
      "outputs": [],
      "source": [
        "# Simplify our dataset to only columns we need\n",
        "\n",
        "duration = ...\n",
        "duration"
      ]
    },
    {
      "cell_type": "code",
      "execution_count": null,
      "metadata": {
        "colab": {
          "base_uri": "https://localhost:8080/",
          "height": 236
        },
        "id": "UOT9bmIPU6WW",
        "outputId": "c8293980-558f-4722-e257-c3793d905c02"
      },
      "outputs": [],
      "source": [
        "# Now use group to find the min\n",
        "\n",
        "shortest = ...\n",
        "shortest.show(5)"
      ]
    },
    {
      "cell_type": "markdown",
      "metadata": {
        "id": "qx8z7K0dU6WW"
      },
      "source": [
        "## Discussion question"
      ]
    },
    {
      "cell_type": "markdown",
      "metadata": {
        "id": "OORh53rIU6WW"
      },
      "source": [
        "Using the table above, find the 5 stations closest to Civic Center BART by minimum trip time. Your final output should be an array."
      ]
    },
    {
      "cell_type": "code",
      "execution_count": null,
      "metadata": {
        "cellView": "form",
        "colab": {
          "base_uri": "https://localhost:8080/"
        },
        "id": "ByXx_nvMU6WW",
        "outputId": "2aab9fa0-dd58-47f5-aba3-ae9ff58f6839"
      },
      "outputs": [],
      "source": [
        "#@title Example Solution\n",
        "from_cc = shortest.where('Start Station', are.containing('Civic Center BART')).sort('Duration min')\n",
        "\n",
        "from_cc.take(np.arange(5)).column('End Station')"
      ]
    },
    {
      "cell_type": "markdown",
      "metadata": {
        "id": "vXiSKYd9U6WW"
      },
      "source": [
        "## Maps ##"
      ]
    },
    {
      "cell_type": "markdown",
      "metadata": {
        "id": "qufCv9J00gRF"
      },
      "source": [
        "The table `stations` contains geographical information about each bike station, including latitude, longitude, and a “landmark” which is the name of the city where the station is located. (We have removed dockcount and installation in the import statement below)"
      ]
    },
    {
      "cell_type": "code",
      "execution_count": null,
      "metadata": {
        "colab": {
          "base_uri": "https://localhost:8080/",
          "height": 392
        },
        "id": "8KBS1NaaU6WX",
        "outputId": "fff0c3c5-e351-46b6-96de-97c4ec7228c1"
      },
      "outputs": [],
      "source": [
        "# Geographical data on the stations (dropping some columns we don't need)\n",
        "stations = Table.read_table('station.csv').drop(4, 6)\n",
        "stations"
      ]
    },
    {
      "cell_type": "markdown",
      "metadata": {
        "id": "jbFc68VM0xNy"
      },
      "source": [
        "We can draw a map of where the stations are located, using `Marker.map_table`. The function operates on a table, whose columns are (in order) latitude, longitude, and an optional identifier for each point. <br>\n",
        "Before we can use this, we are going to first get a table for only San Fran and then select only the columns of data we need."
      ]
    },
    {
      "cell_type": "code",
      "execution_count": null,
      "metadata": {
        "colab": {
          "base_uri": "https://localhost:8080/",
          "height": 173
        },
        "id": "l5k3_kZyU6Wd",
        "outputId": "b2ced91f-d2fb-4759-9926-79db9318443b"
      },
      "outputs": [],
      "source": [
        "sf_stations = stations.where('landmark', are.equal_to('San Francisco'))\n",
        "sf_stations_map_data = (sf_stations\n",
        " .select('lat', 'long', 'name')\n",
        " .relabeled('name', 'labels'))\n",
        "sf_stations_map_data.show(3)"
      ]
    },
    {
      "cell_type": "code",
      "execution_count": null,
      "metadata": {
        "colab": {
          "base_uri": "https://localhost:8080/",
          "height": 789
        },
        "id": "NIsPiMAhU6Wd",
        "outputId": "f6498486-33e8-406e-b1e4-593c6658a0a6"
      },
      "outputs": [],
      "source": [
        "Marker.map_table(sf_stations_map_data)"
      ]
    },
    {
      "cell_type": "markdown",
      "metadata": {
        "id": "0Ynij-Sk1GZv"
      },
      "source": [
        "The map is created using [OpenStreetMap](https://www.openstreetmap.org/#map=5/51.50/-0.10), which is an open online mapping system that you can use just as you would use Google Maps or any other online map."
      ]
    },
    {
      "cell_type": "markdown",
      "metadata": {
        "id": "PmPCr_Lj1M5H"
      },
      "source": [
        "You can also represent points on a map by colored circles."
      ]
    },
    {
      "cell_type": "code",
      "execution_count": null,
      "metadata": {
        "colab": {
          "base_uri": "https://localhost:8080/",
          "height": 789
        },
        "id": "D-GhjIe2U6Wd",
        "outputId": "454a9a5e-409b-42da-f8b9-e0f5835691a5"
      },
      "outputs": [],
      "source": [
        "Circle.map_table(sf_stations_map_data)"
      ]
    },
    {
      "cell_type": "markdown",
      "metadata": {
        "id": "YxQQ-VJPBzZW"
      },
      "source": [
        "## Conditionals and Iteration"
      ]
    },
    {
      "cell_type": "markdown",
      "metadata": {
        "id": "RKETMl7rBX36"
      },
      "source": [
        "## Comparison ##"
      ]
    },
    {
      "cell_type": "markdown",
      "metadata": {
        "id": "mZHRLoQOB465"
      },
      "source": [
        "You may have seen basic boolean expressions before:"
      ]
    },
    {
      "cell_type": "code",
      "execution_count": null,
      "metadata": {
        "colab": {
          "base_uri": "https://localhost:8080/"
        },
        "id": "is-9RthQBX36",
        "outputId": "b0e759bb-599d-478c-c700-96747112a691"
      },
      "outputs": [],
      "source": [
        "3 > 1"
      ]
    },
    {
      "cell_type": "code",
      "execution_count": null,
      "metadata": {
        "colab": {
          "base_uri": "https://localhost:8080/"
        },
        "id": "9QXVW3zvBX36",
        "outputId": "22aaae4a-21ff-4cb6-d47e-00694a04470e"
      },
      "outputs": [],
      "source": [
        "type(3 > 1)"
      ]
    },
    {
      "cell_type": "code",
      "execution_count": null,
      "metadata": {
        "colab": {
          "base_uri": "https://localhost:8080/"
        },
        "id": "cDc2o1jEBX36",
        "outputId": "ab7c6ebf-731b-4946-edce-09ee82c1f5e9"
      },
      "outputs": [],
      "source": [
        "type(True)"
      ]
    },
    {
      "cell_type": "code",
      "execution_count": null,
      "metadata": {
        "colab": {
          "base_uri": "https://localhost:8080/",
          "height": 159
        },
        "id": "HTLs6P1mBX36",
        "outputId": "b3a7bea6-f3b9-427a-ef63-ff8b6924f140"
      },
      "outputs": [],
      "source": [
        "# What is the error here?\n",
        "true"
      ]
    },
    {
      "cell_type": "markdown",
      "metadata": {
        "id": "gbbU40oRCA7l"
      },
      "source": [
        "Recall that the single `=` is assignment.\n",
        " Thus the following error:"
      ]
    },
    {
      "cell_type": "code",
      "execution_count": null,
      "metadata": {
        "colab": {
          "base_uri": "https://localhost:8080/",
          "height": 106
        },
        "id": "8kTG6KIEBX36",
        "outputId": "40554808-748f-41ac-dde7-bf3603417a5e"
      },
      "outputs": [],
      "source": [
        "3 = 3"
      ]
    },
    {
      "cell_type": "markdown",
      "metadata": {
        "id": "54b1cTTtCR-n"
      },
      "source": [
        "Equality:"
      ]
    },
    {
      "cell_type": "code",
      "execution_count": null,
      "metadata": {
        "colab": {
          "base_uri": "https://localhost:8080/"
        },
        "id": "wdMH3dblBX36",
        "outputId": "875ecd82-a8a9-466e-ef94-746a37037356"
      },
      "outputs": [],
      "source": [
        "3 == 3.0"
      ]
    },
    {
      "cell_type": "markdown",
      "metadata": {
        "id": "uzHv6oX5CZQa"
      },
      "source": [
        "Inequality (not equal to):"
      ]
    },
    {
      "cell_type": "code",
      "execution_count": null,
      "metadata": {
        "colab": {
          "base_uri": "https://localhost:8080/"
        },
        "id": "kTYAtQXhBX36",
        "outputId": "e0208031-309b-4aa3-9be8-ff0e34d339c4"
      },
      "outputs": [],
      "source": [
        "10 != 2"
      ]
    },
    {
      "cell_type": "markdown",
      "metadata": {
        "id": "bf6lAYt9CdU0"
      },
      "source": [
        "Using variables in boolean expressions:"
      ]
    },
    {
      "cell_type": "code",
      "execution_count": 47,
      "metadata": {
        "id": "AVORU10RBX36"
      },
      "outputs": [],
      "source": [
        "x = 14\n",
        "y = 3"
      ]
    },
    {
      "cell_type": "code",
      "execution_count": null,
      "metadata": {
        "colab": {
          "base_uri": "https://localhost:8080/"
        },
        "id": "cI0DC8YBBX36",
        "outputId": "78b489e3-6ee5-4aea-afd4-0adf27558457"
      },
      "outputs": [],
      "source": [
        "x > 15"
      ]
    },
    {
      "cell_type": "code",
      "execution_count": null,
      "metadata": {
        "colab": {
          "base_uri": "https://localhost:8080/"
        },
        "id": "P1Po-LiLBX36",
        "outputId": "cca7302c-0eb5-442a-cb61-aeb646aa3521"
      },
      "outputs": [],
      "source": [
        "12 < x"
      ]
    },
    {
      "cell_type": "code",
      "execution_count": null,
      "metadata": {
        "colab": {
          "base_uri": "https://localhost:8080/"
        },
        "id": "ZDlxEc8bBX36",
        "outputId": "84ff09b2-ba18-485b-a1bc-bb49b2616062"
      },
      "outputs": [],
      "source": [
        "x < 20"
      ]
    },
    {
      "cell_type": "markdown",
      "metadata": {
        "id": "h0scEArmCjfN"
      },
      "source": [
        "Compound boolean expressions:"
      ]
    },
    {
      "cell_type": "code",
      "execution_count": null,
      "metadata": {
        "colab": {
          "base_uri": "https://localhost:8080/"
        },
        "id": "2aAeTvFWBX36",
        "outputId": "4e441d1b-8973-454b-fea7-7dec7b54e82a"
      },
      "outputs": [],
      "source": [
        "12 < x < 20"
      ]
    },
    {
      "cell_type": "code",
      "execution_count": null,
      "metadata": {
        "colab": {
          "base_uri": "https://localhost:8080/"
        },
        "id": "gyFUuEoCCumE",
        "outputId": "7036f173-2b16-430d-bb84-21beadbbc115"
      },
      "outputs": [],
      "source": [
        "(12 < x) and (x < 20)"
      ]
    },
    {
      "cell_type": "code",
      "execution_count": null,
      "metadata": {
        "colab": {
          "base_uri": "https://localhost:8080/"
        },
        "id": "8g5YPdbEDEm6",
        "outputId": "2c67cc4c-96bd-45fc-8bd0-ed3da922b4b3"
      },
      "outputs": [],
      "source": [
        "(12 < x) and (x < 5)"
      ]
    },
    {
      "cell_type": "code",
      "execution_count": null,
      "metadata": {
        "colab": {
          "base_uri": "https://localhost:8080/"
        },
        "id": "jtstnIQMC-Ap",
        "outputId": "01d16576-d149-4be1-a622-572ee0e6fd07"
      },
      "outputs": [],
      "source": [
        "(12 < x) or (x < 5)"
      ]
    },
    {
      "cell_type": "code",
      "execution_count": null,
      "metadata": {
        "colab": {
          "base_uri": "https://localhost:8080/"
        },
        "id": "R8mznx6sBX36",
        "outputId": "5e978534-1ace-48d8-d285-631314745379"
      },
      "outputs": [],
      "source": [
        "10 < x - y < 13"
      ]
    },
    {
      "cell_type": "code",
      "execution_count": null,
      "metadata": {
        "colab": {
          "base_uri": "https://localhost:8080/"
        },
        "id": "LbTXy_7bBX37",
        "outputId": "6fab2c61-60a5-4bd0-a4b2-71e05585d940"
      },
      "outputs": [],
      "source": [
        "x > 13 and y < 3.14159"
      ]
    },
    {
      "cell_type": "markdown",
      "metadata": {
        "id": "q5gCvylyBX37"
      },
      "source": [
        "(The comparison `12 < x < 20` is equivalent to `12 < x and x < 20`.)"
      ]
    },
    {
      "cell_type": "markdown",
      "metadata": {
        "id": "xXcSzdUvBX37"
      },
      "source": [
        "## Comparisons with arrays"
      ]
    },
    {
      "cell_type": "code",
      "execution_count": 57,
      "metadata": {
        "id": "nAeaUkobBX37"
      },
      "outputs": [],
      "source": [
        "# An array of pets\n",
        "pets = make_array('cat', 'cat', 'dog', 'cat', 'dog', 'rabbit')"
      ]
    },
    {
      "cell_type": "code",
      "execution_count": null,
      "metadata": {
        "colab": {
          "base_uri": "https://localhost:8080/"
        },
        "id": "VtsEIp7oBX37",
        "outputId": "cc85ba6d-28ba-4a15-ea49-9128e9280cca"
      },
      "outputs": [],
      "source": [
        "# Here it checks whether each element in the array is equal (==) to cat\n",
        "pets == 'cat'"
      ]
    },
    {
      "cell_type": "markdown",
      "metadata": {
        "id": "AqvpjFAWE4wq"
      },
      "source": [
        "How many cats?"
      ]
    },
    {
      "cell_type": "code",
      "execution_count": null,
      "metadata": {
        "colab": {
          "base_uri": "https://localhost:8080/"
        },
        "id": "Uh75XlhzBX37",
        "outputId": "64935899-41aa-4987-ec79-84fb8c44fcb6"
      },
      "outputs": [],
      "source": [
        "sum(pets == 'cat')"
      ]
    },
    {
      "cell_type": "markdown",
      "metadata": {
        "id": "GMIvcfWBFIaT"
      },
      "source": [
        "Math with booleans"
      ]
    },
    {
      "cell_type": "code",
      "execution_count": null,
      "metadata": {
        "colab": {
          "base_uri": "https://localhost:8080/"
        },
        "id": "QYDStQTHBX37",
        "outputId": "f3f41360-6c25-4649-dd03-a22090c04e7e"
      },
      "outputs": [],
      "source": [
        "# Converts to true and false and then counts them as one or zero\n",
        "np.mean(pets == 'cat')"
      ]
    },
    {
      "cell_type": "code",
      "execution_count": null,
      "metadata": {
        "colab": {
          "base_uri": "https://localhost:8080/"
        },
        "id": "QgKhou_jFiL1",
        "outputId": "9d9d5719-dea0-4a75-86cc-4c088a9f3c2b"
      },
      "outputs": [],
      "source": [
        "# An assignment statement with equality operation\n",
        "is_cat = pets == 'cat'\n",
        "is_cat"
      ]
    },
    {
      "cell_type": "code",
      "execution_count": null,
      "metadata": {
        "colab": {
          "base_uri": "https://localhost:8080/"
        },
        "id": "QDzBxNGUFxx6",
        "outputId": "5c4edb98-688c-4748-f88e-8d1c9dfc4cb5"
      },
      "outputs": [],
      "source": [
        "is_cat * 2 - 1"
      ]
    },
    {
      "cell_type": "code",
      "execution_count": null,
      "metadata": {
        "colab": {
          "base_uri": "https://localhost:8080/"
        },
        "id": "CSBigwOzBX37",
        "outputId": "2d2d15d5-8145-4f2a-e4b8-43474695fb15"
      },
      "outputs": [],
      "source": [
        "sum(make_array(True, True, False, True, False, False))"
      ]
    },
    {
      "cell_type": "code",
      "execution_count": null,
      "metadata": {
        "colab": {
          "base_uri": "https://localhost:8080/"
        },
        "id": "CW9Gq5E5BX37",
        "outputId": "e736dc97-01c4-45d4-ad34-83af833cc2ce"
      },
      "outputs": [],
      "source": [
        "np.count_nonzero(pets == 'dog')"
      ]
    },
    {
      "cell_type": "code",
      "execution_count": null,
      "metadata": {
        "colab": {
          "base_uri": "https://localhost:8080/"
        },
        "id": "HKJ7C-sIBX37",
        "outputId": "0a753d53-4b0f-47f0-8aed-a2d4ed9e5818"
      },
      "outputs": [],
      "source": [
        "x = np.arange(20, 31)\n",
        "x"
      ]
    },
    {
      "cell_type": "code",
      "execution_count": null,
      "metadata": {
        "colab": {
          "base_uri": "https://localhost:8080/"
        },
        "id": "PghDY7BCBX37",
        "outputId": "ed6ee93f-65fb-450e-eec2-e2e87187f403"
      },
      "outputs": [],
      "source": [
        "x > 28"
      ]
    },
    {
      "cell_type": "code",
      "execution_count": null,
      "metadata": {
        "colab": {
          "base_uri": "https://localhost:8080/"
        },
        "id": "66WcrlcHMdyF",
        "outputId": "28e46b40-7a04-4535-806f-6054dddfac40"
      },
      "outputs": [],
      "source": [
        "sum(x > 28)"
      ]
    },
    {
      "cell_type": "markdown",
      "metadata": {
        "id": "oQUfRMhpU6Wd"
      },
      "source": [
        "### Extra: More ways to work with data and use the maps plotting features"
      ]
    },
    {
      "cell_type": "markdown",
      "metadata": {
        "id": "jVxuHgWeU6Wd"
      },
      "source": [
        "Map all stations within 4 minutes (minimum ride time) of Civic Center."
      ]
    },
    {
      "cell_type": "code",
      "execution_count": null,
      "metadata": {
        "id": "d2Bk3AKlU6Wd"
      },
      "outputs": [],
      "source": [
        "from_cc.show(3)"
      ]
    },
    {
      "cell_type": "code",
      "execution_count": null,
      "metadata": {
        "id": "rWjelaODU6Wd"
      },
      "outputs": [],
      "source": [
        "sf_stations_map_data.show(3)"
      ]
    },
    {
      "cell_type": "code",
      "execution_count": null,
      "metadata": {
        "cellView": "form",
        "id": "pyDB_3ziU6Wd"
      },
      "outputs": [],
      "source": [
        "#@title Example Solution\n",
        "close_cc = from_cc.where('Duration min', are.below(4 * 60))\n",
        "\n",
        "close_markers = (sf_stations_map_data\n",
        "      .join('labels', close_cc, 'End Station')\n",
        "      .select('lat', 'long', 'labels'))\n",
        "\n",
        "Marker.map_table(close_markers)"
      ]
    },
    {
      "cell_type": "markdown",
      "metadata": {
        "id": "ISKd8oviU6Wd"
      },
      "source": [
        "Choose marker colors by the minimum time from Civic Center"
      ]
    },
    {
      "cell_type": "code",
      "execution_count": null,
      "metadata": {
        "id": "CQKIG40zU6Wd"
      },
      "outputs": [],
      "source": [
        "minutes = np.round(from_cc.column(\"Duration min\") / 60)\n",
        "print(min(minutes), max(minutes))"
      ]
    },
    {
      "cell_type": "code",
      "execution_count": null,
      "metadata": {
        "id": "X6yh4lYqU6Wd"
      },
      "outputs": [],
      "source": [
        "colors = Table().with_columns(\n",
        "    \"minutes\", np.arange(15),\n",
        "    \"colors\",  [\"darkblue\", \"blue\", \"lightblue\",\n",
        "                \"darkgreen\", \"green\", \"lightgreen\",\n",
        "                \"orange\", \"darkred\", \"red\",\n",
        "                \"gray\", \"gray\", \"gray\",\n",
        "                \"gray\", \"gray\", \"gray\"])\n",
        "colors_cc = (from_cc\n",
        " .with_column(\"Minutes\", minutes)\n",
        " .join(\"Minutes\", colors, \"minutes\"))\n",
        "\n",
        "colored_markers = (sf_stations_map_data\n",
        "      .join('labels', colors_cc, 'End Station')\n",
        "      .select('lat', 'long', 'labels', 'colors'))\n",
        "Marker.map_table(colored_markers)"
      ]
    },
    {
      "cell_type": "code",
      "execution_count": null,
      "metadata": {
        "id": "-oE2LIyhU6We"
      },
      "outputs": [],
      "source": [
        "station_starts = stations.join('name', starts, 'Start Station')\n",
        "station_starts.show(3)"
      ]
    },
    {
      "cell_type": "code",
      "execution_count": null,
      "metadata": {
        "id": "n99rhnF_U6We"
      },
      "outputs": [],
      "source": [
        "sf_starts = station_starts.relabeled(\n",
        "    'name', 'labels').where('landmark', 'San Francisco')"
      ]
    },
    {
      "cell_type": "code",
      "execution_count": null,
      "metadata": {
        "id": "8xrTLNl_U6We"
      },
      "outputs": [],
      "source": [
        "sf_starts_map_data = sf_starts.select('lat', 'long', 'labels').with_columns(\n",
        "    'colors', 'blue',\n",
        "    'areas', sf_starts.column('count') / 10\n",
        ")\n",
        "sf_starts_map_data.show(3)"
      ]
    },
    {
      "cell_type": "code",
      "execution_count": null,
      "metadata": {
        "id": "3dT1BD-aU6We"
      },
      "outputs": [],
      "source": [
        "Circle.map_table(sf_starts_map_data)"
      ]
    },
    {
      "cell_type": "markdown",
      "metadata": {
        "id": "F1rofxR4vqK5"
      },
      "source": [
        "### Saving\n",
        "Remember to save your notebook before closing.\n",
        "Choose **Save** (and make sure you've already saved a copy in your drive) from the **File** menu."
      ]
    }
  ],
  "metadata": {
    "colab": {
      "collapsed_sections": [
        "oQUfRMhpU6Wd"
      ],
      "provenance": []
    },
    "kernelspec": {
      "display_name": "Python 3",
      "language": "python",
      "name": "python3"
    },
    "language_info": {
      "codemirror_mode": {
        "name": "ipython",
        "version": 3
      },
      "file_extension": ".py",
      "mimetype": "text/x-python",
      "name": "python",
      "nbconvert_exporter": "python",
      "pygments_lexer": "ipython3",
      "version": "3.10.12"
    }
  },
  "nbformat": 4,
  "nbformat_minor": 0
}
