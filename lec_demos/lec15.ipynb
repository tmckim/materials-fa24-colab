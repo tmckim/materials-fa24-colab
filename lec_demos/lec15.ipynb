{
  "cells": [
    {
      "cell_type": "markdown",
      "metadata": {
        "id": "ml2I5wZ_U6WO"
      },
      "source": [
        "<a href=\"https://colab.research.google.com/github/tmckim/materials-fa24-colab/blob/main/lec_demos/lec15.ipynb\" target=\"_parent\"><img src=\"https://colab.research.google.com/assets/colab-badge.svg\" alt=\"Open In Colab\"/></a>"
      ]
    },
    {
      "cell_type": "markdown",
      "metadata": {
        "id": "EiU1HDGvU6WR"
      },
      "source": [
        "## Before you start - Save this notebook!\n",
        "\n",
        "When you open a new Colab notebook from the WebCampus (like you hopefully did for this one), you cannot save changes. So it's  best to store the Colab notebook in your personal drive `\"File > Save a copy in drive...\"` **before** you do anything else.\n",
        "\n",
        "The file will open in a new tab in your web browser, and it is automatically named something like: \"**Copy of lec15.ipynb**\". You can rename this to just the title of the assignment \"**lec15.ipynb**\". Make sure you do keep an informative name (like the name of the assignment) so that you know which files to submit back to WebCampus for grading! More instructions on this are at the end of the notebook.\n",
        "\n",
        "\n",
        "**Where does the notebook get saved in Google Drive?**\n",
        "\n",
        "By default, the notebook will be copied to a folder called “Colab Notebooks” at the root (home directory) of your Google Drive. If you use this for other courses or personal code notebooks, I recommend creating a folder for this course and then moving the assignments AFTER you have completed them. <br>\n",
        "\n",
        "I also recommend you give the folder where you save your notebooks^ a different name than the folder we create below that will store the notebook resources you need each time you work through a course notebook. This includes any data files you will need, links to the images that appear in the notebook, and the files associated with the autograder for answer checking.<br>\n",
        "You should select a name other than '**NS499-DataSci-course-materials**'. <br>\n",
        "This folder gets overwritten with each assignment you work on in the course, so you should **NOT** store your notebooks in this folder that we use for course materials! <br><br>For example, you could create a folder called 'NS499-**notebooks**' or something along those lines.\n",
        "___"
      ]
    },
    {
      "cell_type": "markdown",
      "metadata": {
        "id": "9qxrnTVfUjO_"
      },
      "source": [
        "# Import & Setup"
      ]
    },
    {
      "cell_type": "code",
      "execution_count": null,
      "metadata": {
        "colab": {
          "base_uri": "https://localhost:8080/"
        },
        "id": "Wh0xryS-UjO_",
        "outputId": "c09413a8-8c0b-4d13-85c0-b8f0baf910d3"
      },
      "outputs": [],
      "source": [
        "# Step 1\n",
        "# Setup and add files needed to access gdrive\n",
        "from google.colab import drive                                   # these lines mount your gdrive to access the files we import below\n",
        "drive.mount('/content/gdrive', force_remount=True)"
      ]
    },
    {
      "cell_type": "code",
      "execution_count": 2,
      "metadata": {
        "id": "LOgR0jVwUjPA"
      },
      "outputs": [],
      "source": [
        "# Step 2\n",
        "# Change directory to the correct location in gdrive (modified way to do this from before)\n",
        "import os\n",
        "os.chdir('/content/gdrive/MyDrive/NS499-DataSci-course-materials/')"
      ]
    },
    {
      "cell_type": "code",
      "execution_count": null,
      "metadata": {
        "id": "AI9oGmV0UjPA"
      },
      "outputs": [],
      "source": [
        "# Step 3\n",
        "# Remove the files that were previously there- we will replace with all the old + new ones for this assignment\n",
        "!rm -r materials-fa24-colab"
      ]
    },
    {
      "cell_type": "code",
      "execution_count": null,
      "metadata": {
        "id": "0MqPBOhpUjPA"
      },
      "outputs": [],
      "source": [
        "# Step 4\n",
        "# These lines clone (copy) all the files you will need from where I store the code+data for the course (github)\n",
        "# Second part of the code copies the files to this location and folder in your own gdrive\n",
        "!git clone https://github.com/tmckim/materials-fa24-colab '/content/gdrive/My Drive/NS499-DataSci-course-materials/materials-fa24-colab/'"
      ]
    },
    {
      "cell_type": "code",
      "execution_count": 7,
      "metadata": {
        "id": "KQr3P1vKUjPA"
      },
      "outputs": [],
      "source": [
        "# Step 5\n",
        "# Change directory into the folder where the resources for this assignment are stored in gdrive (modified way from before)\n",
        "os.chdir('/content/gdrive/MyDrive/NS499-DataSci-course-materials/materials-fa24-colab/lec_demos/')"
      ]
    },
    {
      "cell_type": "code",
      "execution_count": 3,
      "metadata": {
        "id": "PaihHzG8UjPA"
      },
      "outputs": [],
      "source": [
        "# Import packages and other things needed\n",
        "# Don't change this cell; Just run this cell\n",
        "# If you restart colab, make sure to run this cell again after the first ones above^\n",
        "\n",
        "from datascience import *\n",
        "import numpy as np\n",
        "import warnings\n",
        "warnings.simplefilter(action='ignore',category=np.VisibleDeprecationWarning)\n",
        "\n",
        "%matplotlib inline\n",
        "import matplotlib.pyplot as plt\n",
        "plt.style.use(\"fivethirtyeight\")\n",
        "plt.rcParams[\"patch.force_edgecolor\"] = True"
      ]
    },
    {
      "cell_type": "markdown",
      "metadata": {
        "id": "jMHqHNmyU6WU"
      },
      "source": [
        "## Learning Objectives ##"
      ]
    },
    {
      "cell_type": "markdown",
      "metadata": {
        "id": "P-uR6FmDU6WU"
      },
      "source": [
        "\n",
        "Topics:\n",
        "- demonstrate deterministic and random sampling\n",
        "- plot probability and empirical distributions\n",
        "- demonstrate the law of large numbers"
      ]
    },
    {
      "cell_type": "markdown",
      "metadata": {
        "id": "2sohCTBIXeVI"
      },
      "source": [
        "## Random Sampling ##"
      ]
    },
    {
      "cell_type": "markdown",
      "metadata": {
        "id": "DLNc2rINXeVI"
      },
      "source": [
        "We load in a dataset of all United flights national flights from 6/1/15 to 8/9/15, their destination and how long they were delayed, in minutes."
      ]
    },
    {
      "cell_type": "code",
      "execution_count": null,
      "metadata": {
        "id": "JuMlxqOTXeVI"
      },
      "outputs": [],
      "source": [
        "# columns:\n",
        "# date\n",
        "# flight number\n",
        "# destination\n",
        "# delay (in minutes)"
      ]
    },
    {
      "cell_type": "code",
      "execution_count": null,
      "metadata": {
        "colab": {
          "base_uri": "https://localhost:8080/",
          "height": 392
        },
        "id": "nudQm99vXeVI",
        "outputId": "de5a1521-838c-41e4-db81-d78a43dd9b3a"
      },
      "outputs": [],
      "source": [
        "# Load in our data\n",
        "united = Table.read_table('united.csv')\n",
        "united = united.with_column('Row', np.arange(united.num_rows)).move_to_start('Row') # add row numbers so we can see samples more easily\n",
        "united"
      ]
    },
    {
      "cell_type": "markdown",
      "metadata": {
        "id": "JSUDBdZPXeVI"
      },
      "source": [
        "## For each of the following, is this a **deterministic** or a **random sampling** strategy?"
      ]
    },
    {
      "cell_type": "code",
      "execution_count": null,
      "metadata": {
        "colab": {
          "base_uri": "https://localhost:8080/",
          "height": 392
        },
        "id": "xK0wlEgcXeVI",
        "outputId": "723ab616-f3a2-4c75-c2da-432bf1094dde"
      },
      "outputs": [],
      "source": [
        "# Take a sample, like we've been doing already in this class- using 'where\n"
      ]
    },
    {
      "cell_type": "code",
      "execution_count": null,
      "metadata": {
        "colab": {
          "base_uri": "https://localhost:8080/",
          "height": 143
        },
        "id": "Eh-v0BVHXeVJ",
        "outputId": "8c324951-1879-41ce-b1db-00987e3e23a8"
      },
      "outputs": [],
      "source": [
        "# 'sample' table method, with replacement\n"
      ]
    },
    {
      "cell_type": "code",
      "execution_count": null,
      "metadata": {
        "colab": {
          "base_uri": "https://localhost:8080/",
          "height": 392
        },
        "id": "qPGcnUk7XeVJ",
        "outputId": "1b98802e-c1c7-4f74-f856-5650b991d8c6"
      },
      "outputs": [],
      "source": [
        "# sample using 'np.arange'\n"
      ]
    },
    {
      "cell_type": "code",
      "execution_count": null,
      "metadata": {
        "colab": {
          "base_uri": "https://localhost:8080/",
          "height": 143
        },
        "id": "Obl28BMiXeVJ",
        "outputId": "78fdec97-1394-4776-f460-5de7d61a90d0"
      },
      "outputs": [],
      "source": [
        "# Sample using 'take' method\n"
      ]
    },
    {
      "cell_type": "code",
      "execution_count": null,
      "metadata": {
        "colab": {
          "base_uri": "https://localhost:8080/",
          "height": 143
        },
        "id": "AK1nTkrGXeVJ",
        "outputId": "8b33a8d5-3cec-4870-f4bb-c983c9d7dc73"
      },
      "outputs": [],
      "source": [
        "# combination of methods- 'where' and 'sample'\n"
      ]
    },
    {
      "cell_type": "code",
      "execution_count": null,
      "metadata": {
        "colab": {
          "base_uri": "https://localhost:8080/",
          "height": 488
        },
        "id": "xt6wUrCAXeVJ",
        "outputId": "e1dd7ab3-c8fe-441c-855e-478d0f2827ff"
      },
      "outputs": [],
      "source": [
        "# A systematic sample example\n",
        "start = ...\n",
        "systematic_sample = ...\n",
        "systematic_sample.show()"
      ]
    },
    {
      "cell_type": "markdown",
      "metadata": {
        "id": "fLxFnwRrXeVJ"
      },
      "source": [
        "## Distributions ##"
      ]
    },
    {
      "cell_type": "code",
      "execution_count": null,
      "metadata": {
        "colab": {
          "base_uri": "https://localhost:8080/",
          "height": 238
        },
        "id": "F100oXOCXeVJ",
        "outputId": "65ff0cf4-ae91-45a7-addc-45aab3048a0e"
      },
      "outputs": [],
      "source": [
        "# A single, fair die\n",
        "die = Table().with_column('Face', np.arange(1, 7))\n",
        "die"
      ]
    },
    {
      "cell_type": "markdown",
      "metadata": {
        "id": "iwAzZGg_XeVJ"
      },
      "source": [
        "What is the **Probability Distribution** of drawing each face assuming each face is equally likely (a 'fair die')?"
      ]
    },
    {
      "cell_type": "code",
      "execution_count": null,
      "metadata": {
        "colab": {
          "base_uri": "https://localhost:8080/",
          "height": 417
        },
        "id": "RZodffpFXeVJ",
        "outputId": "4a056777-4d6f-4f38-eae3-4e3484658a3e"
      },
      "outputs": [],
      "source": [
        "# Probability distribution\n",
        "roll_bins = np.arange(0.5,6.6,1)\n",
        "die.hist(bins=roll_bins)"
      ]
    },
    {
      "cell_type": "markdown",
      "metadata": {
        "id": "Ng_2h2urXeVK"
      },
      "source": [
        "We can sample from the die table many times with replacement:"
      ]
    },
    {
      "cell_type": "code",
      "execution_count": null,
      "metadata": {
        "colab": {
          "base_uri": "https://localhost:8080/",
          "height": 206
        },
        "id": "keAgs5anXeVK",
        "outputId": "034b6252-676a-4daa-985c-708e618cff13"
      },
      "outputs": [],
      "source": []
    },
    {
      "cell_type": "markdown",
      "metadata": {
        "id": "ZznjB_6qXeVK"
      },
      "source": [
        "We can construct an **Empirical Distribution** from our simulation:"
      ]
    },
    {
      "cell_type": "code",
      "execution_count": null,
      "metadata": {
        "colab": {
          "base_uri": "https://localhost:8080/",
          "height": 410
        },
        "id": "OJoOVyReXeVK",
        "outputId": "4d390e67-51d8-449e-e41d-739b1dc17333"
      },
      "outputs": [],
      "source": []
    },
    {
      "cell_type": "markdown",
      "metadata": {
        "id": "cjyKINWjXeVK"
      },
      "source": [
        "What happens if we increase the number of trials in our simulation? What happens to the distribution?"
      ]
    },
    {
      "cell_type": "code",
      "execution_count": null,
      "metadata": {
        "colab": {
          "base_uri": "https://localhost:8080/",
          "height": 410
        },
        "id": "iIX1SQTMXeVK",
        "outputId": "21268984-0e9e-415b-ee6c-8d27595bdf2e"
      },
      "outputs": [],
      "source": []
    },
    {
      "cell_type": "code",
      "execution_count": null,
      "metadata": {
        "colab": {
          "base_uri": "https://localhost:8080/",
          "height": 414
        },
        "id": "VAGV8AQCXeVK",
        "outputId": "91e6847f-a4f2-426c-9701-a9759768a6a4"
      },
      "outputs": [],
      "source": []
    },
    {
      "cell_type": "markdown",
      "metadata": {
        "id": "o-878ZlgXeVK"
      },
      "source": [
        "## Large Random Samples ##"
      ]
    },
    {
      "cell_type": "markdown",
      "metadata": {
        "id": "lkGflCd2XeVK"
      },
      "source": [
        "The United flight dataset is a relatively large dataset:"
      ]
    },
    {
      "cell_type": "code",
      "execution_count": null,
      "metadata": {
        "colab": {
          "base_uri": "https://localhost:8080/"
        },
        "id": "Pv2rtBY0XeVK",
        "outputId": "cb58a68c-c729-4502-b939-cafbf5cbdcbc"
      },
      "outputs": [],
      "source": [
        "# Show how much data\n",
        "united.num_rows"
      ]
    },
    {
      "cell_type": "markdown",
      "metadata": {
        "id": "wdKSOZ7uXeVK"
      },
      "source": [
        "We can plot the distribution of delays for the population:"
      ]
    },
    {
      "cell_type": "code",
      "execution_count": null,
      "metadata": {
        "colab": {
          "base_uri": "https://localhost:8080/",
          "height": 410
        },
        "id": "YJTsfl1hXeVL",
        "outputId": "bbde396a-5ffa-4e92-89a8-7e5ba72bb81b"
      },
      "outputs": [],
      "source": [
        "# Some very delayed flights\n"
      ]
    },
    {
      "cell_type": "code",
      "execution_count": null,
      "metadata": {
        "colab": {
          "base_uri": "https://localhost:8080/",
          "height": 392
        },
        "id": "_yT1OtGfXeVL",
        "outputId": "48bc9c4c-4ac4-4571-db4e-a75bebfb7d95"
      },
      "outputs": [],
      "source": [
        "# Sort with descending order to review the data"
      ]
    },
    {
      "cell_type": "markdown",
      "metadata": {
        "id": "mNLgUOz_XeVL"
      },
      "source": [
        "Let's truncate the extreme flights with a histogram from -20 to 201. (More on why later)"
      ]
    },
    {
      "cell_type": "code",
      "execution_count": null,
      "metadata": {
        "colab": {
          "base_uri": "https://localhost:8080/",
          "height": 410
        },
        "id": "HAG-xu0OXeVL",
        "outputId": "21381f3f-213f-4bcc-8bcb-f6a89370a630"
      },
      "outputs": [],
      "source": [
        "# Show the adjusted histogram\n",
        "united_bins = np.arange(-20,201,5) # -20 means left early, and then up to 5 mins\n",
        "..."
      ]
    },
    {
      "cell_type": "markdown",
      "metadata": {
        "id": "AbszFkrFXeVL"
      },
      "source": [
        "What happens if we take a small sample from this population of flights and compute the distribution of delays:"
      ]
    },
    {
      "cell_type": "code",
      "execution_count": null,
      "metadata": {
        "colab": {
          "base_uri": "https://localhost:8080/",
          "height": 410
        },
        "id": "VGK5q7iIXeVL",
        "outputId": "9ccf1140-7f3e-44bd-aaa6-1a7aa55c2a1e"
      },
      "outputs": [],
      "source": []
    },
    {
      "cell_type": "code",
      "execution_count": null,
      "metadata": {
        "colab": {
          "base_uri": "https://localhost:8080/",
          "height": 410
        },
        "id": "gki3L7-MXeVL",
        "outputId": "76648e71-7ccf-4364-cffa-2a005e3d809c"
      },
      "outputs": [],
      "source": [
        "# Increase the sample size\n"
      ]
    },
    {
      "cell_type": "markdown",
      "metadata": {
        "id": "I4wTyTaxXeVL"
      },
      "source": [
        "## Simulating Statistics ##"
      ]
    },
    {
      "cell_type": "markdown",
      "metadata": {
        "id": "2Y6yORpYXeVL"
      },
      "source": [
        "Because we have access to the population (this is rare!) we can compute the **parameters** directly from the data. For example, suppose we wanted to know the median flight delay:"
      ]
    },
    {
      "cell_type": "code",
      "execution_count": null,
      "metadata": {
        "colab": {
          "base_uri": "https://localhost:8080/"
        },
        "id": "s6yDoFFiXeVL",
        "outputId": "7a776350-7c8b-4ea9-88eb-79767495c68a"
      },
      "outputs": [],
      "source": []
    },
    {
      "cell_type": "markdown",
      "metadata": {
        "id": "oI10QjGTXeVM"
      },
      "source": [
        "In practice, we will often have a sample. The median of the sample is a **statistic** that estimates the median of the population."
      ]
    },
    {
      "cell_type": "code",
      "execution_count": null,
      "metadata": {
        "colab": {
          "base_uri": "https://localhost:8080/"
        },
        "id": "4HhucfhLXeVM",
        "outputId": "568d8d32-9a8e-46c1-e137-7c9414e1798b"
      },
      "outputs": [],
      "source": []
    },
    {
      "cell_type": "markdown",
      "metadata": {
        "id": "BT46AOl2XeVM"
      },
      "source": [
        "Here we define a function to simulate the process of computing the median from a random sample of a given size:"
      ]
    },
    {
      "cell_type": "code",
      "execution_count": 71,
      "metadata": {
        "id": "_yvvZ0JJXeVM"
      },
      "outputs": [],
      "source": [
        "def sample_median(size):\n",
        "..."
      ]
    },
    {
      "cell_type": "code",
      "execution_count": null,
      "metadata": {
        "colab": {
          "base_uri": "https://localhost:8080/"
        },
        "id": "NakZBSvRXeVM",
        "outputId": "dc4c05fc-3804-4d34-ed5e-d51ac51de2b9"
      },
      "outputs": [],
      "source": [
        "# test our function"
      ]
    },
    {
      "cell_type": "markdown",
      "metadata": {
        "id": "anK-FbPmXeVM"
      },
      "source": [
        "We can then simulate this sampling process many times:"
      ]
    },
    {
      "cell_type": "code",
      "execution_count": 73,
      "metadata": {
        "id": "laubY4YHXeVM"
      },
      "outputs": [],
      "source": [
        "sample_medians = ...\n",
        "\n",
        "for ...:\n",
        "    new_median = ...\n",
        "    sample_medians = ..."
      ]
    },
    {
      "cell_type": "code",
      "execution_count": null,
      "metadata": {
        "colab": {
          "base_uri": "https://localhost:8080/",
          "height": 410
        },
        "id": "XXK-uDUvXeVM",
        "outputId": "d1ec64bf-6fde-42ef-98c1-dc93b540e1a5"
      },
      "outputs": [],
      "source": [
        "# add out data to table and then plot the histogram\n",
        "medians = Table().with_columns('Sample medians', sample_medians, 'Sample size', 10)\n",
        "medians.hist('Sample medians', bins = 50)"
      ]
    },
    {
      "cell_type": "code",
      "execution_count": 75,
      "metadata": {
        "id": "ETz6x0obXeVM"
      },
      "outputs": [],
      "source": [
        "sample_medians2 = ...\n",
        "\n",
        "for ...:\n",
        "    new_median = ...\n",
        "    sample_medians2 = ..."
      ]
    },
    {
      "cell_type": "code",
      "execution_count": null,
      "metadata": {
        "colab": {
          "base_uri": "https://localhost:8080/",
          "height": 410
        },
        "id": "_6s1FXzCXeVM",
        "outputId": "aee7030a-d5d7-4a69-edc5-ef2295e6ec0a"
      },
      "outputs": [],
      "source": [
        "# Combine both samples into a table and plot\n",
        "overall_tbl = medians.append(Table().with_columns(\n",
        "    \"Sample medians\", sample_medians2,\n",
        "    \"Sample size\", 1000))\n",
        "overall_tbl.hist(\"Sample medians\", group=\"Sample size\", bins = 50)"
      ]
    },
    {
      "cell_type": "markdown",
      "metadata": {
        "id": "Me3BDT2QXeVN"
      },
      "source": [
        "#### Empirical Distributions of a Statistic (Overlayed)"
      ]
    },
    {
      "cell_type": "code",
      "execution_count": 77,
      "metadata": {
        "id": "PA8L70KoXeVN"
      },
      "outputs": [],
      "source": [
        "# Simulate and sample\n",
        "\n",
        "sample_medians_10 = make_array()\n",
        "sample_medians_100 = make_array()\n",
        "sample_medians_1000 = make_array()\n",
        "\n",
        "num_simulations = 2000\n",
        "\n",
        "for i in np.arange(num_simulations):\n",
        "    new_median_10 = sample_median(10)\n",
        "    sample_medians_10 = np.append(sample_medians_10, new_median_10)\n",
        "    new_median_100 = sample_median(100)\n",
        "    sample_medians_100 = np.append(sample_medians_100, new_median_100)\n",
        "    new_median_1000 = sample_median(1000)\n",
        "    sample_medians_1000 = np.append(sample_medians_1000, new_median_1000)"
      ]
    },
    {
      "cell_type": "code",
      "execution_count": 78,
      "metadata": {
        "id": "vuYUDOlcXeVN"
      },
      "outputs": [],
      "source": [
        "# Add data to a table (visualization in next cell)\n",
        "sample_medians = Table().with_columns('Size 10', sample_medians_10,\n",
        "                                      'Size 100', sample_medians_100,\n",
        "                                      'Size 1000', sample_medians_1000)"
      ]
    },
    {
      "cell_type": "code",
      "execution_count": null,
      "metadata": {
        "colab": {
          "base_uri": "https://localhost:8080/",
          "height": 384
        },
        "id": "rLoh6MGIXeVN",
        "outputId": "e7102f77-e40d-4263-dd51-af0584426d3e"
      },
      "outputs": [],
      "source": [
        "# Use histogram to visualize\n",
        "sample_medians.hist(bins = np.arange(-5, 30))"
      ]
    },
    {
      "cell_type": "markdown",
      "metadata": {
        "id": "ZvdvEeAIe57Y"
      },
      "source": [
        "## Saving\n",
        "Remember to save your notebook before closing. Choose **Save** (and make sure you've already saved a copy in your drive) from the **File** menu."
      ]
    }
  ],
  "metadata": {
    "colab": {
      "provenance": []
    },
    "kernelspec": {
      "display_name": "Python 3",
      "language": "python",
      "name": "python3"
    },
    "language_info": {
      "codemirror_mode": {
        "name": "ipython",
        "version": 3
      },
      "file_extension": ".py",
      "mimetype": "text/x-python",
      "name": "python",
      "nbconvert_exporter": "python",
      "pygments_lexer": "ipython3",
      "version": "3.10.12"
    }
  },
  "nbformat": 4,
  "nbformat_minor": 0
}
