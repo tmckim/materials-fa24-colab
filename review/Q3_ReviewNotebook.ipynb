{
  "cells": [
    {
      "cell_type": "markdown",
      "source": [
        "<a href=\"https://colab.research.google.com/github/tmckim/materials-fa24-colab/blob/main/review/Q3_ReviewNotebook.ipynb\" target=\"_parent\"><img src=\"https://colab.research.google.com/assets/colab-badge.svg\" alt=\"Open In Colab\"/></a>\n"
      ],
      "metadata": {
        "id": "jR06zIn1v9nR"
      },
      "id": "jR06zIn1v9nR"
    },
    {
      "cell_type": "markdown",
      "source": [
        "## Before you start - Save this notebook!\n",
        "\n",
        "When you open a new Colab notebook from the WebCampus (like you hopefully did for this one), you cannot save changes. So it's  best to store the Colab notebook in your personal drive `\"File > Save a copy in drive...\"` **before** you do anything else.\n",
        "\n",
        "The file will open in a new tab in your web browser, and it is automatically named something like: \"**Copy of Q3_ReviewNotebook.ipynb**\". You can rename this to just the title of the assignment \"**Q3_ReviewNotebook.ipynb**\". Make sure you do keep an informative name (like the name of the assignment) so that you know which files to submit back to WebCampus for grading! More instructions on this are at the end of the notebook.\n",
        "\n",
        "\n",
        "**Where does the notebook get saved in Google Drive?**\n",
        "\n",
        "By default, the notebook will be copied to a folder called “Colab Notebooks” at the root (home directory) of your Google Drive. If you use this for other courses or personal code notebooks, I recommend creating a folder for this course and then moving the assignments AFTER you have completed them. <br>\n",
        "\n",
        "I also recommend you give the folder where you save your notebooks^ a different name than the folder we create below that will store the notebook resources you need each time you work through a course notebook. This includes any data files you will need, links to the images that appear in the notebook, and the files associated with the autograder for answer checking.<br>\n",
        "You should select a name other than '**NS499-DataSci-course-materials**'. <br>\n",
        "This folder gets overwritten with each assignment you work on in the course, so you should **NOT** store your notebooks in this folder that we use for course materials! <br><br>For example, you could create a folder called 'NS499-**notebooks**' or something along those lines.\n",
        "___"
      ],
      "metadata": {
        "id": "Aax7YezwwDDP"
      },
      "id": "Aax7YezwwDDP"
    },
    {
      "cell_type": "markdown",
      "metadata": {
        "id": "VJ-ZqsLVmadY"
      },
      "source": [
        "# Import & Setup"
      ],
      "id": "VJ-ZqsLVmadY"
    },
    {
      "cell_type": "code",
      "execution_count": null,
      "metadata": {
        "id": "5LmDb0xHmadZ"
      },
      "outputs": [],
      "source": [
        "# Step 1\n",
        "# Setup and add files needed to access gdrive\n",
        "from google.colab import drive                                   # these lines mount your gdrive to access the files we import below\n",
        "drive.mount('/content/gdrive', force_remount=True)"
      ],
      "id": "5LmDb0xHmadZ"
    },
    {
      "cell_type": "code",
      "execution_count": null,
      "metadata": {
        "id": "JnlD1zJjmadZ"
      },
      "outputs": [],
      "source": [
        "# Step 2\n",
        "# Change directory to the correct location in gdrive (modified way to do this from before)\n",
        "import os\n",
        "os.chdir('/content/gdrive/MyDrive/NS499-DataSci-course-materials/')"
      ],
      "id": "JnlD1zJjmadZ"
    },
    {
      "cell_type": "code",
      "execution_count": null,
      "metadata": {
        "id": "vUBCNdoumadZ"
      },
      "outputs": [],
      "source": [
        "# Step 3\n",
        "# Remove the files that were previously there- we will replace with all the old + new ones for this assignment\n",
        "!rm -r materials-fa24-colab"
      ],
      "id": "vUBCNdoumadZ"
    },
    {
      "cell_type": "code",
      "execution_count": null,
      "metadata": {
        "id": "J69HAfv5mada"
      },
      "outputs": [],
      "source": [
        "# Step 4\n",
        "# These lines clone (copy) all the files you will need from where I store the code+data for the course (github)\n",
        "# Second part of the code copies the files to this location and folder in your own gdrive\n",
        "!git clone https://github.com/tmckim/materials-fa24-colab '/content/gdrive/My Drive/NS499-DataSci-course-materials/materials-fa24-colab/'"
      ],
      "id": "J69HAfv5mada"
    },
    {
      "cell_type": "code",
      "execution_count": null,
      "metadata": {
        "id": "YBJcCuZhmada"
      },
      "outputs": [],
      "source": [
        "# Step 5\n",
        "# Change directory into the folder where the resources for this assignment are stored in gdrive (modified way from before)\n",
        "os.chdir('/content/gdrive/MyDrive/NS499-DataSci-course-materials/materials-fa24-colab/review/')"
      ],
      "id": "YBJcCuZhmada"
    },
    {
      "cell_type": "code",
      "execution_count": null,
      "metadata": {
        "id": "fxRt29ZRmada"
      },
      "outputs": [],
      "source": [
        "# Import packages and other things needed\n",
        "# Don't change this cell; Just run this cell\n",
        "# If you restart colab, make sure to run this cell again after the first ones above^\n",
        "\n",
        "# These lines import the Numpy and Datascience modules.\n",
        "import numpy as np\n",
        "from datascience import *\n",
        "\n",
        "# These lines do some fancy plotting magic.\n",
        "import matplotlib\n",
        "%matplotlib inline\n",
        "import matplotlib.pyplot as plt\n",
        "plt.style.use('fivethirtyeight')\n",
        "import warnings\n",
        "warnings.simplefilter('ignore', FutureWarning)"
      ],
      "id": "fxRt29ZRmada"
    },
    {
      "cell_type": "markdown",
      "source": [
        "## Python Expressions & Methods"
      ],
      "metadata": {
        "id": "vTz9PXD2JFBJ"
      },
      "id": "vTz9PXD2JFBJ"
    },
    {
      "cell_type": "code",
      "source": [
        "# Q1\n",
        "sum(make_array(True,False,False,True,False))"
      ],
      "metadata": {
        "id": "ZPtDK9GvJKIB"
      },
      "id": "ZPtDK9GvJKIB",
      "execution_count": null,
      "outputs": []
    },
    {
      "cell_type": "code",
      "source": [
        "# Q2\n",
        "a = make_array(8,1,22,14,3,10,4,18)\n",
        "np.count_nonzero(a>10)"
      ],
      "metadata": {
        "id": "f7k4cDrEJEc5"
      },
      "id": "f7k4cDrEJEc5",
      "execution_count": null,
      "outputs": []
    },
    {
      "cell_type": "code",
      "source": [
        "# Q3\n",
        "first = np.arange(4)\n",
        "np.append(first, make_array(6,10))"
      ],
      "metadata": {
        "id": "j2tQACHkJWep"
      },
      "id": "j2tQACHkJWep",
      "execution_count": null,
      "outputs": []
    },
    {
      "cell_type": "code",
      "source": [
        "# Q4\n",
        "x = 7\n",
        "y = 3\n",
        "10 > x < 5"
      ],
      "metadata": {
        "id": "xmkrXEdBJbq5"
      },
      "id": "xmkrXEdBJbq5",
      "execution_count": null,
      "outputs": []
    },
    {
      "cell_type": "code",
      "source": [
        "#@title Animals table\n",
        "# Make the animals table in datascience package\n",
        "animal = make_array(\"dog\", \"cat\", \"dog\", \"dog\", \"hamster\", \"cat\")\n",
        "color = make_array(\"brown\", \"black\", \"white\", \"brown\", \"orange\", \"black\")\n",
        "\n",
        "\n",
        "animals = Table().with_columns('animal', animal, 'color', color)\n",
        "\n",
        "animals"
      ],
      "metadata": {
        "colab": {
          "base_uri": "https://localhost:8080/",
          "height": 237
        },
        "id": "sg6TFMOHJj8U",
        "outputId": "2a2c11a2-051e-4625-cb02-bca618777d82",
        "cellView": "form"
      },
      "id": "sg6TFMOHJj8U",
      "execution_count": null,
      "outputs": [
        {
          "output_type": "execute_result",
          "data": {
            "text/plain": [
              "animal  | color\n",
              "dog     | brown\n",
              "cat     | black\n",
              "dog     | white\n",
              "dog     | brown\n",
              "hamster | orange\n",
              "cat     | black"
            ],
            "text/html": [
              "<table border=\"1\" class=\"dataframe\">\n",
              "    <thead>\n",
              "        <tr>\n",
              "            <th>animal</th> <th>color</th>\n",
              "        </tr>\n",
              "    </thead>\n",
              "    <tbody>\n",
              "        <tr>\n",
              "            <td>dog    </td> <td>brown </td>\n",
              "        </tr>\n",
              "        <tr>\n",
              "            <td>cat    </td> <td>black </td>\n",
              "        </tr>\n",
              "        <tr>\n",
              "            <td>dog    </td> <td>white </td>\n",
              "        </tr>\n",
              "        <tr>\n",
              "            <td>dog    </td> <td>brown </td>\n",
              "        </tr>\n",
              "        <tr>\n",
              "            <td>hamster</td> <td>orange</td>\n",
              "        </tr>\n",
              "        <tr>\n",
              "            <td>cat    </td> <td>black </td>\n",
              "        </tr>\n",
              "    </tbody>\n",
              "</table>"
            ]
          },
          "metadata": {},
          "execution_count": 51
        }
      ]
    },
    {
      "cell_type": "code",
      "source": [
        "# Q5\n",
        "animals.pivot('animal', 'color')"
      ],
      "metadata": {
        "id": "PZoI2q23J-iu"
      },
      "id": "PZoI2q23J-iu",
      "execution_count": null,
      "outputs": []
    },
    {
      "cell_type": "code",
      "source": [
        "# Q6\n",
        "animals.group('color')"
      ],
      "metadata": {
        "id": "FoiuMG_cKBJL"
      },
      "id": "FoiuMG_cKBJL",
      "execution_count": null,
      "outputs": []
    },
    {
      "cell_type": "markdown",
      "id": "7e141ccd",
      "metadata": {
        "id": "7e141ccd"
      },
      "source": [
        "## Simulations & Defining Functions with Roulette"
      ]
    },
    {
      "cell_type": "markdown",
      "id": "75b32ad5",
      "metadata": {
        "id": "75b32ad5"
      },
      "source": [
        "A Nevada roulette wheel has 38 pockets and a small ball that rests on the wheel. When the wheel is spun, the ball comes to rest in one of the 38 pockets. That pocket is declared the winner.\n",
        "\n",
        "The pockets are labeled 0, 00, 1, 2, 3, 4, ... , 36. Pockets 0 and 00 are green, and the other pockets are alternately red and black. The table `wheel` is a representation of a Nevada roulette wheel. **Note that *both* columns consist of strings.** Below is an example of a roulette wheel!"
      ]
    },
    {
      "cell_type": "markdown",
      "id": "83cdd96a",
      "metadata": {
        "id": "83cdd96a"
      },
      "source": [
        "<img src=\"roulette_wheel.jpeg\" width=\"330px\">"
      ]
    },
    {
      "cell_type": "markdown",
      "id": "17c85bb8",
      "metadata": {
        "id": "17c85bb8"
      },
      "source": [
        "Run the cell below to load the `wheel` table."
      ]
    },
    {
      "cell_type": "code",
      "execution_count": null,
      "id": "fca2b413",
      "metadata": {
        "execution": {
          "iopub.execute_input": "2022-02-27T07:01:10.251261Z",
          "iopub.status.busy": "2022-02-27T07:01:10.250631Z",
          "iopub.status.idle": "2022-02-27T07:01:10.260957Z",
          "shell.execute_reply": "2022-02-27T07:01:10.261439Z"
        },
        "id": "fca2b413",
        "colab": {
          "base_uri": "https://localhost:8080/",
          "height": 392
        },
        "outputId": "d1e7d365-77fd-47a8-8658-55832cf4de67"
      },
      "outputs": [
        {
          "output_type": "execute_result",
          "data": {
            "text/plain": [
              "Pocket | Color\n",
              "0      | green\n",
              "0      | green\n",
              "1      | red\n",
              "2      | black\n",
              "3      | red\n",
              "4      | black\n",
              "5      | red\n",
              "6      | black\n",
              "7      | red\n",
              "8      | black\n",
              "... (28 rows omitted)"
            ],
            "text/html": [
              "<table border=\"1\" class=\"dataframe\">\n",
              "    <thead>\n",
              "        <tr>\n",
              "            <th>Pocket</th> <th>Color</th>\n",
              "        </tr>\n",
              "    </thead>\n",
              "    <tbody>\n",
              "        <tr>\n",
              "            <td>0     </td> <td>green</td>\n",
              "        </tr>\n",
              "        <tr>\n",
              "            <td>0     </td> <td>green</td>\n",
              "        </tr>\n",
              "        <tr>\n",
              "            <td>1     </td> <td>red  </td>\n",
              "        </tr>\n",
              "        <tr>\n",
              "            <td>2     </td> <td>black</td>\n",
              "        </tr>\n",
              "        <tr>\n",
              "            <td>3     </td> <td>red  </td>\n",
              "        </tr>\n",
              "        <tr>\n",
              "            <td>4     </td> <td>black</td>\n",
              "        </tr>\n",
              "        <tr>\n",
              "            <td>5     </td> <td>red  </td>\n",
              "        </tr>\n",
              "        <tr>\n",
              "            <td>6     </td> <td>black</td>\n",
              "        </tr>\n",
              "        <tr>\n",
              "            <td>7     </td> <td>red  </td>\n",
              "        </tr>\n",
              "        <tr>\n",
              "            <td>8     </td> <td>black</td>\n",
              "        </tr>\n",
              "    </tbody>\n",
              "</table>\n",
              "<p>... (28 rows omitted)</p>"
            ]
          },
          "metadata": {},
          "execution_count": 21
        }
      ],
      "source": [
        "wheel = Table.read_table('roulette_wheel.csv')\n",
        "wheel"
      ]
    },
    {
      "cell_type": "markdown",
      "id": "c544cfb4",
      "metadata": {
        "id": "c544cfb4"
      },
      "source": [
        "### Betting on Red ###\n",
        "If you bet on *red*, you are betting that the winning pocket will be red. This bet *pays 1 to 1*. That means if you place a one-dollar bet on red, then:\n",
        "\n",
        "- If the winning pocket is red, you gain 1 dollar. That is, you get your original dollar back, plus one more dollar.\n",
        "- if the winning pocket is not red, you lose your dollar. In other words, you gain -1 dollars.\n",
        "\n",
        "**Hint:** This is like what we practiced in class when we compared my roll of a die to yours with simulation. One outcome was positive and one was negative."
      ]
    },
    {
      "cell_type": "markdown",
      "id": "319858e6",
      "metadata": {
        "id": "319858e6"
      },
      "source": [
        "**Question 1.** Define a function `dollar_bet_on_red` that takes the name of a color and returns your gain in dollars if that color had won and you had placed a one-dollar bet on red. Remember that the gain can be negative. Make sure your function returns an integer.\n",
        "\n",
        "*Note:* You can assume that the only colors that will be passed as arguments are red, black, and green. Your function doesn't have to check that.\n"
      ]
    },
    {
      "cell_type": "code",
      "execution_count": null,
      "id": "4b0704ee",
      "metadata": {
        "execution": {
          "iopub.execute_input": "2022-02-27T07:01:10.266520Z",
          "iopub.status.busy": "2022-02-27T07:01:10.266026Z",
          "iopub.status.idle": "2022-02-27T07:01:10.268709Z",
          "shell.execute_reply": "2022-02-27T07:01:10.268286Z"
        },
        "tags": [
          "otter_assign_solution_cell"
        ],
        "id": "4b0704ee"
      },
      "outputs": [],
      "source": [
        "def dollar_bet_on_red(color):"
      ]
    },
    {
      "cell_type": "markdown",
      "id": "1360f942",
      "metadata": {
        "id": "1360f942"
      },
      "source": [
        "Run the cell below to make sure your function is working."
      ]
    },
    {
      "cell_type": "code",
      "execution_count": null,
      "id": "1f384d83",
      "metadata": {
        "execution": {
          "iopub.execute_input": "2022-02-27T07:01:10.287937Z",
          "iopub.status.busy": "2022-02-27T07:01:10.287457Z",
          "iopub.status.idle": "2022-02-27T07:01:10.289972Z",
          "shell.execute_reply": "2022-02-27T07:01:10.289503Z"
        },
        "id": "1f384d83"
      },
      "outputs": [],
      "source": [
        "print(dollar_bet_on_red('green'))\n",
        "print(dollar_bet_on_red('black'))\n",
        "print(dollar_bet_on_red('red'))"
      ]
    },
    {
      "cell_type": "markdown",
      "id": "3d874aff",
      "metadata": {
        "id": "3d874aff"
      },
      "source": [
        "**Question 2.** Now it's time to apply the function you just wrote. Your code should use the function `dollar_bet_on_red` on the correct column from the `wheel` table. The output array `red_winnings` should contain the gain in dollars if your pocket won and ou had bet one dollar on red.\n",
        "\n"
      ]
    },
    {
      "cell_type": "code",
      "execution_count": null,
      "id": "4df0fe48",
      "metadata": {
        "execution": {
          "iopub.execute_input": "2022-02-27T07:01:10.295863Z",
          "iopub.status.busy": "2022-02-27T07:01:10.295377Z",
          "iopub.status.idle": "2022-02-27T07:01:10.298076Z",
          "shell.execute_reply": "2022-02-27T07:01:10.298429Z"
        },
        "scrolled": true,
        "tags": [
          "otter_assign_solution_cell"
        ],
        "id": "4df0fe48"
      },
      "outputs": [],
      "source": [
        "red_winnings = ..."
      ]
    },
    {
      "cell_type": "markdown",
      "source": [
        "**Question 3:** Your friend Steve was trying to be helpful (and he doesn't know how to code!), so he compiled the data into a table called `winnings`. You would like to add this data to the original `wheel` table. Create a new table called `all_data` that contains 3 columns: `Pocket`, `Color`, and `Red Wins` by using a method that allows you to combine the two tables."
      ],
      "metadata": {
        "id": "bG8uNpELDeoQ"
      },
      "id": "bG8uNpELDeoQ"
    },
    {
      "cell_type": "code",
      "execution_count": null,
      "id": "f3b493df",
      "metadata": {
        "deletable": false,
        "editable": false,
        "id": "f3b493df",
        "cellView": "form"
      },
      "outputs": [],
      "source": [
        "#@title updated wheel table\n",
        "wheel_updated = wheel.with_columns('Red Wins', red_winnings)\n",
        "wheel_updated"
      ]
    },
    {
      "cell_type": "code",
      "source": [
        "#@title Winnings table\n",
        "winnings = wheel_updated.select('Pocket', 'Red Wins').relabel('Pocket', 'Number')\n",
        "winnings"
      ],
      "metadata": {
        "colab": {
          "base_uri": "https://localhost:8080/",
          "height": 392
        },
        "cellView": "form",
        "id": "IYYJ7akkFFeO",
        "outputId": "0885077f-082c-43f0-b9ae-ee215f1a826f"
      },
      "id": "IYYJ7akkFFeO",
      "execution_count": null,
      "outputs": [
        {
          "output_type": "execute_result",
          "data": {
            "text/plain": [
              "Number | Red Wins\n",
              "0      | -1\n",
              "0      | -1\n",
              "1      | 1\n",
              "2      | -1\n",
              "3      | 1\n",
              "4      | -1\n",
              "5      | 1\n",
              "6      | -1\n",
              "7      | 1\n",
              "8      | -1\n",
              "... (28 rows omitted)"
            ],
            "text/html": [
              "<table border=\"1\" class=\"dataframe\">\n",
              "    <thead>\n",
              "        <tr>\n",
              "            <th>Number</th> <th>Red Wins</th>\n",
              "        </tr>\n",
              "    </thead>\n",
              "    <tbody>\n",
              "        <tr>\n",
              "            <td>0     </td> <td>-1      </td>\n",
              "        </tr>\n",
              "        <tr>\n",
              "            <td>0     </td> <td>-1      </td>\n",
              "        </tr>\n",
              "        <tr>\n",
              "            <td>1     </td> <td>1       </td>\n",
              "        </tr>\n",
              "        <tr>\n",
              "            <td>2     </td> <td>-1      </td>\n",
              "        </tr>\n",
              "        <tr>\n",
              "            <td>3     </td> <td>1       </td>\n",
              "        </tr>\n",
              "        <tr>\n",
              "            <td>4     </td> <td>-1      </td>\n",
              "        </tr>\n",
              "        <tr>\n",
              "            <td>5     </td> <td>1       </td>\n",
              "        </tr>\n",
              "        <tr>\n",
              "            <td>6     </td> <td>-1      </td>\n",
              "        </tr>\n",
              "        <tr>\n",
              "            <td>7     </td> <td>1       </td>\n",
              "        </tr>\n",
              "        <tr>\n",
              "            <td>8     </td> <td>-1      </td>\n",
              "        </tr>\n",
              "    </tbody>\n",
              "</table>\n",
              "<p>... (28 rows omitted)</p>"
            ]
          },
          "metadata": {},
          "execution_count": 23
        }
      ]
    },
    {
      "cell_type": "markdown",
      "source": [
        "**Question 4:** Below we have defined a function that simulates one round of a spin on the roulette wheel. We use this function and a for loop to simulate 10000 spins and store the outcomes. The outcomes (1 or -1) are then put into the `results` table. We are interested in the count of wins (1) and losses (-1) from the `results` table. Write code using a method we've learned to output a table that shows the cunt for the values in the `My winnings` column."
      ],
      "metadata": {
        "id": "spCaVziDG1-O"
      },
      "id": "spCaVziDG1-O"
    },
    {
      "cell_type": "code",
      "source": [
        "def simulate_one_round():\n",
        "  color = np.random.choice(wheel.column('Color'))\n",
        "  return dollar_bet_on_red(color)"
      ],
      "metadata": {
        "id": "hgo9hDhgGr6V"
      },
      "id": "hgo9hDhgGr6V",
      "execution_count": null,
      "outputs": []
    },
    {
      "cell_type": "code",
      "source": [
        "# simulation\n",
        "outcomes = make_array()\n",
        "for i in np.arange(10000):\n",
        "  outcomes = np.append(outcomes, simulate_one_round())\n",
        "\n",
        "results = Table().with_column('My winnings', outcomes)\n",
        "results"
      ],
      "metadata": {
        "colab": {
          "base_uri": "https://localhost:8080/",
          "height": 392
        },
        "id": "J-PJIMLbHN0d",
        "outputId": "fb6f7d70-83be-44b9-91d7-cd60d9338c1f"
      },
      "id": "J-PJIMLbHN0d",
      "execution_count": null,
      "outputs": [
        {
          "output_type": "execute_result",
          "data": {
            "text/plain": [
              "My winnings\n",
              "-1\n",
              "1\n",
              "1\n",
              "-1\n",
              "1\n",
              "1\n",
              "-1\n",
              "1\n",
              "-1\n",
              "1\n",
              "... (9990 rows omitted)"
            ],
            "text/html": [
              "<table border=\"1\" class=\"dataframe\">\n",
              "    <thead>\n",
              "        <tr>\n",
              "            <th>My winnings</th>\n",
              "        </tr>\n",
              "    </thead>\n",
              "    <tbody>\n",
              "        <tr>\n",
              "            <td>-1         </td>\n",
              "        </tr>\n",
              "        <tr>\n",
              "            <td>1          </td>\n",
              "        </tr>\n",
              "        <tr>\n",
              "            <td>1          </td>\n",
              "        </tr>\n",
              "        <tr>\n",
              "            <td>-1         </td>\n",
              "        </tr>\n",
              "        <tr>\n",
              "            <td>1          </td>\n",
              "        </tr>\n",
              "        <tr>\n",
              "            <td>1          </td>\n",
              "        </tr>\n",
              "        <tr>\n",
              "            <td>-1         </td>\n",
              "        </tr>\n",
              "        <tr>\n",
              "            <td>1          </td>\n",
              "        </tr>\n",
              "        <tr>\n",
              "            <td>-1         </td>\n",
              "        </tr>\n",
              "        <tr>\n",
              "            <td>1          </td>\n",
              "        </tr>\n",
              "    </tbody>\n",
              "</table>\n",
              "<p>... (9990 rows omitted)</p>"
            ]
          },
          "metadata": {},
          "execution_count": 28
        }
      ]
    },
    {
      "cell_type": "markdown",
      "source": [
        "**Question 5:** We took a random sample of 20 rows from the original `wheel` table and put those results into a new table called `twenty_bets`. However, instead of putting in the original numbers, 1 and 0 have replaced 1 and -1, respectively. You'd like to know how many times you won on your bets by summing the values in the `Wins Adjusted` column. Write code to calculate the sum from this data in the `twenty_bets` table."
      ],
      "metadata": {
        "id": "Ni4FPb8zHiUJ"
      },
      "id": "Ni4FPb8zHiUJ"
    },
    {
      "cell_type": "code",
      "source": [
        "#@title Hidden\n",
        "twenty_bets = wheel_updated.sample(20)\n",
        "twenty_bets\n",
        "\n",
        "values = make_array()\n",
        "\n",
        "for i in np.arange(len(twenty_bets.column('Red Wins'))):\n",
        "  if twenty_bets.column('Red Wins').item(i) == 1:\n",
        "       values = np.append(values,True)\n",
        "  else:\n",
        "       values = np.append(values,False)\n",
        "\n",
        "twenty_bets = twenty_bets.with_column('Wins Adjusted', values).drop('Red Wins')\n",
        "twenty_bets"
      ],
      "metadata": {
        "colab": {
          "base_uri": "https://localhost:8080/",
          "height": 392
        },
        "cellView": "form",
        "id": "NmvFLWMDH2hE",
        "outputId": "fbc699e7-159b-47e5-b7fc-174cac68b81b"
      },
      "id": "NmvFLWMDH2hE",
      "execution_count": null,
      "outputs": [
        {
          "output_type": "execute_result",
          "data": {
            "text/plain": [
              "Pocket | Color | Wins Adjusted\n",
              "32     | red   | 1\n",
              "7      | red   | 1\n",
              "36     | red   | 1\n",
              "0      | green | 0\n",
              "29     | black | 0\n",
              "21     | red   | 1\n",
              "33     | black | 0\n",
              "12     | red   | 1\n",
              "5      | red   | 1\n",
              "19     | red   | 1\n",
              "... (10 rows omitted)"
            ],
            "text/html": [
              "<table border=\"1\" class=\"dataframe\">\n",
              "    <thead>\n",
              "        <tr>\n",
              "            <th>Pocket</th> <th>Color</th> <th>Wins Adjusted</th>\n",
              "        </tr>\n",
              "    </thead>\n",
              "    <tbody>\n",
              "        <tr>\n",
              "            <td>32    </td> <td>red  </td> <td>1            </td>\n",
              "        </tr>\n",
              "        <tr>\n",
              "            <td>7     </td> <td>red  </td> <td>1            </td>\n",
              "        </tr>\n",
              "        <tr>\n",
              "            <td>36    </td> <td>red  </td> <td>1            </td>\n",
              "        </tr>\n",
              "        <tr>\n",
              "            <td>0     </td> <td>green</td> <td>0            </td>\n",
              "        </tr>\n",
              "        <tr>\n",
              "            <td>29    </td> <td>black</td> <td>0            </td>\n",
              "        </tr>\n",
              "        <tr>\n",
              "            <td>21    </td> <td>red  </td> <td>1            </td>\n",
              "        </tr>\n",
              "        <tr>\n",
              "            <td>33    </td> <td>black</td> <td>0            </td>\n",
              "        </tr>\n",
              "        <tr>\n",
              "            <td>12    </td> <td>red  </td> <td>1            </td>\n",
              "        </tr>\n",
              "        <tr>\n",
              "            <td>5     </td> <td>red  </td> <td>1            </td>\n",
              "        </tr>\n",
              "        <tr>\n",
              "            <td>19    </td> <td>red  </td> <td>1            </td>\n",
              "        </tr>\n",
              "    </tbody>\n",
              "</table>\n",
              "<p>... (10 rows omitted)</p>"
            ]
          },
          "metadata": {},
          "execution_count": 40
        }
      ]
    },
    {
      "cell_type": "markdown",
      "source": [
        "## Conditionals, Iteration, and Randomization"
      ],
      "metadata": {
        "id": "Is1mvAgvKYma"
      },
      "id": "Is1mvAgvKYma"
    },
    {
      "cell_type": "markdown",
      "source": [
        "**Question 1:** A research lab studies brain development and invites children, teens, or adults to participate in their studies. During each session, they collect information about each participant’s age. They want help writing code that can be used to take the participant age and convert it to a grouping variable. To do so, they ask you to define a function with the following information. <br><br>\n",
        "The `age_group` function should take in the age of the participant (from 8 to 40) and assign text to indicate the corresponding group. The final output should be the text for that age group. You do not need to get that text from the group column in the table. Instead, the function should explicitly return the text as a string, depending on the age input to the function.<br><br>\n",
        "Hint: Notice in the column for age, it provides ranges with brackets [ and parentheses ). Remember that this notation means that the number on the left is included in that range, but the one on the right is not. So bracket [ means inclusive and parenthesis ) means exclusive (except the last one, which includes both ends). This is important for determining what to use in your `if/elif` statements below.<br><br>\n",
        "\n",
        "\n",
        "   age    |  group\n",
        "----------|----------\n",
        "[8,11)    | Child\n",
        "[11,18)   | Teen\n",
        "[18,40)   | Adult\n"
      ],
      "metadata": {
        "id": "_iHXuGr0NRdH"
      },
      "id": "_iHXuGr0NRdH"
    },
    {
      "cell_type": "code",
      "source": [
        "# Q1\n",
        "def age_group(age):\n",
        "  \"\"\" Takes age (int) and returns the corresponding group variable (str)\"\"\"\n",
        "  if    :\n",
        "    return\n",
        "  elif :\n",
        "    return\n",
        "  else:\n",
        "    return\n",
        "\n"
      ],
      "metadata": {
        "id": "q6GahgjDKb13"
      },
      "id": "q6GahgjDKb13",
      "execution_count": null,
      "outputs": []
    },
    {
      "cell_type": "code",
      "source": [
        "# Q2\n",
        "for ... in make_array('fall', 'winter', 'spring', 'summer'):\n",
        "..."
      ],
      "metadata": {
        "id": "76uPLFXWLWqJ"
      },
      "id": "76uPLFXWLWqJ",
      "execution_count": null,
      "outputs": []
    },
    {
      "cell_type": "code",
      "source": [
        "# Q3\n",
        "x = 5\n",
        "for i in np.arange(2,5):\n",
        "  x = x + i\n",
        "  print(x)"
      ],
      "metadata": {
        "id": "PlZ6Nnj8Ll6l"
      },
      "id": "PlZ6Nnj8Ll6l",
      "execution_count": null,
      "outputs": []
    },
    {
      "cell_type": "code",
      "source": [
        "#@title Hidden\n",
        "# loop through 2,3,4\n",
        "# 1st iteration: i = 2; x = 5 + 2 = 7\n",
        "# 2nd iteration: i = 3; x = 7 + 3 = 10\n",
        "# 3rd iteration: i = 4; x = 10 + 4 = 14"
      ],
      "metadata": {
        "cellView": "form",
        "id": "0l8D-cQGLu1N"
      },
      "id": "0l8D-cQGLu1N",
      "execution_count": 1,
      "outputs": []
    },
    {
      "cell_type": "markdown",
      "source": [
        "**Question 4:** You have an array of Halloween `candy` below. Write code that will randomly choose 2 candy options that you should buy from the store to give out for trick or treat."
      ],
      "metadata": {
        "id": "nwMdGt5DMUzG"
      },
      "id": "nwMdGt5DMUzG"
    },
    {
      "cell_type": "code",
      "source": [
        "# Q4\n",
        "candy = make_array(\"Reese's\", \"KitKat\", \"Sour Patch Kids\", 'Twizzlers')\n",
        "candy"
      ],
      "metadata": {
        "id": "_ILitS8BMBnQ"
      },
      "id": "_ILitS8BMBnQ",
      "execution_count": null,
      "outputs": []
    },
    {
      "cell_type": "code",
      "source": [
        "yummy = ..."
      ],
      "metadata": {
        "id": "onq2TIHNMLkT"
      },
      "id": "onq2TIHNMLkT",
      "execution_count": null,
      "outputs": []
    },
    {
      "cell_type": "markdown",
      "source": [
        "# Extra Questions"
      ],
      "metadata": {
        "id": "5FGIjiXwI3Ed"
      },
      "id": "5FGIjiXwI3Ed"
    },
    {
      "cell_type": "markdown",
      "id": "ccc837cd",
      "metadata": {
        "id": "ccc837cd"
      },
      "source": [
        "### Simulating 10 Bets on Red\n",
        "Roulette wheels are set up so that each time they are spun, the winning pocket is equally likely to be any of the 38 pockets regardless of the results of all other spins. Let's see what would happen if we decided to bet one dollar on red each round.\n",
        "\n",
        "**Question 3.** Write a line of code that creates a table `ten_bets` by sampling the table `wheel` to simulate 10 spins of the roulette wheel. Your table should have the same three column labels as in `wheel`.\n"
      ]
    },
    {
      "cell_type": "code",
      "execution_count": null,
      "id": "cc13a717",
      "metadata": {
        "execution": {
          "iopub.execute_input": "2022-02-27T07:01:10.317383Z",
          "iopub.status.busy": "2022-02-27T07:01:10.314765Z",
          "iopub.status.idle": "2022-02-27T07:01:10.319998Z",
          "shell.execute_reply": "2022-02-27T07:01:10.320357Z"
        },
        "tags": [
          "otter_assign_solution_cell"
        ],
        "id": "cc13a717"
      },
      "outputs": [],
      "source": [
        "ten_bets = ..."
      ]
    },
    {
      "cell_type": "code",
      "source": [
        "# let's find the sum of our winnings\n",
        "total = sum(ten_bets.column('Red Wins'))\n",
        "total"
      ],
      "metadata": {
        "id": "_4HeLgkOxrQ5"
      },
      "id": "_4HeLgkOxrQ5",
      "execution_count": null,
      "outputs": []
    },
    {
      "cell_type": "markdown",
      "id": "1f43e252",
      "metadata": {
        "id": "1f43e252"
      },
      "source": [
        "Run the cells above a few times to see how much money you would make if you made 10 one-dollar bets on red. Making a negative amount of money doesn't feel good, but it is a reality in gambling. Casinos are a business, and they make money when gamblers lose."
      ]
    },
    {
      "cell_type": "markdown",
      "id": "ff3995e5",
      "metadata": {
        "id": "ff3995e5"
      },
      "source": [
        "**Question 4.** Let's see what would happen if you made more bets. Define a function `net_gain_red` that takes the number of bets and returns the net gain in that number of one-dollar bets on red.\n",
        "\n",
        "*Hint 1:* You should use your `wheel` table within your function, with similar code to what you wrote in the above question. <br>\n",
        "*Hint 2:* you should return the sum of the column `Red Wins` from your new table created in the function below\n"
      ]
    },
    {
      "cell_type": "code",
      "execution_count": null,
      "id": "4891dda0",
      "metadata": {
        "execution": {
          "iopub.execute_input": "2022-02-27T07:01:10.339738Z",
          "iopub.status.busy": "2022-02-27T07:01:10.339230Z",
          "iopub.status.idle": "2022-02-27T07:01:10.341526Z",
          "shell.execute_reply": "2022-02-27T07:01:10.341924Z"
        },
        "tags": [
          "otter_assign_solution_cell"
        ],
        "id": "4891dda0"
      },
      "outputs": [],
      "source": [
        "def net_gain_red(...):\n",
        "  all_bets = ...\n",
        "  return ...\n"
      ]
    },
    {
      "cell_type": "markdown",
      "id": "db412d5a",
      "metadata": {
        "id": "db412d5a"
      },
      "source": [
        "Run the cell below a few times to make sure that the results are similar to those you observed in the previous exercise."
      ]
    },
    {
      "cell_type": "code",
      "execution_count": null,
      "id": "c8d3cbfc",
      "metadata": {
        "execution": {
          "iopub.execute_input": "2022-02-27T07:01:10.467435Z",
          "iopub.status.busy": "2022-02-27T07:01:10.466912Z",
          "iopub.status.idle": "2022-02-27T07:01:10.469903Z",
          "shell.execute_reply": "2022-02-27T07:01:10.469502Z"
        },
        "id": "c8d3cbfc"
      },
      "outputs": [],
      "source": [
        "net_gain_red(10)"
      ]
    },
    {
      "cell_type": "markdown",
      "id": "80ae7016",
      "metadata": {
        "id": "80ae7016"
      },
      "source": [
        "**Question 5.** Complete the cell below to simulate the net gain in 200 one-dollar bets on red, repeating the process 10,000 times. After the cell is run, `all_gains_red` should be an array with 10,000 entries, each of which is the net gain in 200 one-dollar bets on red.\n",
        "\n",
        "*Hint:* For this question, you can assume that `numpy` has been imported as `np`.\n"
      ]
    },
    {
      "cell_type": "code",
      "execution_count": null,
      "id": "f15300ae",
      "metadata": {
        "execution": {
          "iopub.execute_input": "2022-02-27T07:01:10.482677Z",
          "iopub.status.busy": "2022-02-27T07:01:10.481816Z",
          "iopub.status.idle": "2022-02-27T07:01:14.645566Z",
          "shell.execute_reply": "2022-02-27T07:01:14.645024Z"
        },
        "tags": [
          "otter_assign_solution_cell"
        ],
        "id": "f15300ae"
      },
      "outputs": [],
      "source": [
        "num_bets = 200\n",
        "repetitions = 10000\n",
        "all_gains_red = make_array()\n",
        "\n",
        "\n",
        "for ... in ...(...):\n",
        "    new_net_gain = ...(...)\n",
        "    all_gains_red = ...(..., ...)\n",
        "\n",
        "len(all_gains_red)"
      ]
    },
    {
      "cell_type": "markdown",
      "id": "98435783",
      "metadata": {
        "id": "98435783"
      },
      "source": [
        "Run the cell below to visualize the results of your simulation."
      ]
    },
    {
      "cell_type": "code",
      "execution_count": null,
      "id": "4ac6eb1e",
      "metadata": {
        "execution": {
          "iopub.execute_input": "2022-02-27T07:01:14.700790Z",
          "iopub.status.busy": "2022-02-27T07:01:14.700123Z",
          "iopub.status.idle": "2022-02-27T07:01:15.007968Z",
          "shell.execute_reply": "2022-02-27T07:01:15.007403Z"
        },
        "id": "4ac6eb1e"
      },
      "outputs": [],
      "source": [
        "gains = Table().with_columns('Net Gain on Red', all_gains_red)\n",
        "gains.hist(bins = np.arange(-80, 41, 4))"
      ]
    },
    {
      "cell_type": "markdown",
      "id": "e81f5e1e",
      "metadata": {
        "id": "e81f5e1e"
      },
      "source": [
        "**Extra Thought Question:** Using the histogram above, decide whether the following statement is true or false:\n",
        "\n",
        ">If you make 200 one-dollar bets on red, your chance of losing money is more than 50%.\n",
        "\n",
        "Assign `loss_more_than_50` to either `True` or `False` depending on your answer to the question."
      ]
    },
    {
      "cell_type": "code",
      "source": [
        "loss_more_than_50 = ..."
      ],
      "metadata": {
        "id": "kiDkm3GjPlPb"
      },
      "id": "kiDkm3GjPlPb",
      "execution_count": null,
      "outputs": []
    }
  ],
  "metadata": {
    "kernelspec": {
      "display_name": "Python 3 (ipykernel)",
      "language": "python",
      "name": "python3"
    },
    "language_info": {
      "codemirror_mode": {
        "name": "ipython",
        "version": 3
      },
      "file_extension": ".py",
      "mimetype": "text/x-python",
      "name": "python",
      "nbconvert_exporter": "python",
      "pygments_lexer": "ipython3",
      "version": "3.9.13"
    },
    "otter": {
      "OK_FORMAT": true,
      "tests": {
        "q1_1": {
          "name": "q1_1",
          "points": [
            2,
            2
          ],
          "suites": [
            {
              "cases": [
                {
                  "code": ">>> dollar_bet_on_red('red') == 1\nTrue",
                  "hidden": false,
                  "locked": false
                },
                {
                  "code": ">>> dollar_bet_on_red('green') == -1\nTrue",
                  "hidden": true,
                  "locked": false
                }
              ],
              "scored": true,
              "setup": "",
              "teardown": "",
              "type": "doctest"
            }
          ]
        },
        "q1_10": {
          "name": "q1_10",
          "points": [
            0,
            0,
            4
          ],
          "suites": [
            {
              "cases": [
                {
                  "code": ">>> # Make sure histogram_statements is an array.\n>>> import numpy as np\n>>> type(histogram_statements) == np.ndarray\nTrue",
                  "hidden": false,
                  "locked": false
                },
                {
                  "code": ">>> # Make sure you have set histogram_statements to an array with at least 1 number\n>>> 1 <= histogram_statements.item(0) <= 3\nTrue",
                  "hidden": false,
                  "locked": false
                },
                {
                  "code": ">>> histogram_statements.item(0) == 1 and histogram_statements.item(1) == 2 and histogram_statements.item(2) == 3\nTrue",
                  "hidden": true,
                  "locked": false
                }
              ],
              "scored": true,
              "setup": "",
              "teardown": "",
              "type": "doctest"
            }
          ]
        },
        "q1_2": {
          "name": "q1_2",
          "points": [
            0,
            4
          ],
          "suites": [
            {
              "cases": [
                {
                  "code": ">>> # Make sure your column names are correct\n>>> wheel.labels[2] == \"Winnings: Red\"\nTrue",
                  "hidden": false,
                  "locked": false
                },
                {
                  "code": ">>> sum(wheel.column(\"Winnings: Red\")) == -2\nTrue",
                  "hidden": true,
                  "locked": false
                }
              ],
              "scored": true,
              "setup": "",
              "teardown": "",
              "type": "doctest"
            }
          ]
        },
        "q1_3": {
          "name": "q1_3",
          "points": [
            0,
            4
          ],
          "suites": [
            {
              "cases": [
                {
                  "code": ">>> # If this test isn't passing, try running the cells from the top.\n>>> set([\"Pocket\", \"Color\", \"Winnings: Red\"]) == set(ten_bets.labels)\nTrue",
                  "hidden": false,
                  "locked": false
                },
                {
                  "code": ">>> ten_bets.num_rows == 10\nTrue",
                  "hidden": true,
                  "locked": false
                }
              ],
              "scored": true,
              "setup": "",
              "teardown": "",
              "type": "doctest"
            }
          ]
        },
        "q1_4": {
          "name": "q1_4",
          "points": [
            0,
            4
          ],
          "suites": [
            {
              "cases": [
                {
                  "code": ">>> net_gain_red(10000) != net_gain_red(10000)\nTrue",
                  "hidden": false,
                  "locked": false
                },
                {
                  "code": ">>> -10000 <= net_gain_red(10000) <= 10000\nTrue",
                  "hidden": true,
                  "locked": false
                }
              ],
              "scored": true,
              "setup": "",
              "teardown": "",
              "type": "doctest"
            }
          ]
        },
        "q1_5": {
          "name": "q1_5",
          "points": [
            0,
            4
          ],
          "suites": [
            {
              "cases": [
                {
                  "code": ">>> len(all_gains_red) == 10000\nTrue",
                  "hidden": false,
                  "locked": false
                },
                {
                  "code": ">>> np.count_nonzero(all_gains_red <= 100) == 10000\nTrue",
                  "hidden": true,
                  "locked": false
                }
              ],
              "scored": true,
              "setup": "",
              "teardown": "",
              "type": "doctest"
            }
          ]
        },
        "q1_6": {
          "name": "q1_6",
          "points": [
            0,
            4
          ],
          "suites": [
            {
              "cases": [
                {
                  "code": ">>> type(loss_more_than_50) == bool\nTrue",
                  "hidden": false,
                  "locked": false
                },
                {
                  "code": ">>> loss_more_than_50 == True\nTrue",
                  "hidden": true,
                  "locked": false
                }
              ],
              "scored": true,
              "setup": "",
              "teardown": "",
              "type": "doctest"
            }
          ]
        },
        "q1_7": {
          "name": "q1_7",
          "points": [
            2,
            1,
            1
          ],
          "suites": [
            {
              "cases": [
                {
                  "code": ">>> dollar_bet_on_split('5') == 17\nTrue",
                  "hidden": false,
                  "locked": false
                },
                {
                  "code": ">>> dollar_bet_on_split('6') == 17\nTrue",
                  "hidden": true,
                  "locked": false
                },
                {
                  "code": ">>> dollar_bet_on_split('10') == -1\nTrue",
                  "hidden": true,
                  "locked": false
                }
              ],
              "scored": true,
              "setup": "",
              "teardown": "",
              "type": "doctest"
            }
          ]
        },
        "q1_8": {
          "name": "q1_8",
          "points": [
            0,
            4
          ],
          "suites": [
            {
              "cases": [
                {
                  "code": ">>> # Make sure your column names are correct\n>>> wheel.labels[3] == \"Winnings: Split\"\nTrue",
                  "hidden": false,
                  "locked": false
                },
                {
                  "code": ">>> sum(wheel.column(\"Winnings: Split\")) == -2\nTrue",
                  "hidden": true,
                  "locked": false
                }
              ],
              "scored": true,
              "setup": "",
              "teardown": "",
              "type": "doctest"
            }
          ]
        },
        "q1_9": {
          "name": "q1_9",
          "points": [
            0,
            4
          ],
          "suites": [
            {
              "cases": [
                {
                  "code": ">>> len(all_gains_split) == 10000\nTrue",
                  "hidden": false,
                  "locked": false
                },
                {
                  "code": ">>> np.count_nonzero(all_gains_split >= -200) == 10000\nTrue",
                  "hidden": true,
                  "locked": false
                }
              ],
              "scored": true,
              "setup": "",
              "teardown": "",
              "type": "doctest"
            }
          ]
        },
        "q2_1": {
          "name": "q2_1",
          "points": [
            0,
            4
          ],
          "suites": [
            {
              "cases": [
                {
                  "code": ">>> # Your probability output should be a value between 0 and 1.\n>>> 0 < first_three_black < 1\nTrue",
                  "hidden": false,
                  "locked": false
                },
                {
                  "code": ">>> first_three_black\n0.10628371482723427",
                  "hidden": true,
                  "locked": false
                }
              ],
              "scored": true,
              "setup": "",
              "teardown": "",
              "type": "doctest"
            }
          ]
        },
        "q2_2": {
          "name": "q2_2",
          "points": [
            0,
            4
          ],
          "suites": [
            {
              "cases": [
                {
                  "code": ">>> # Your probability output should be a value between 0 and 1.\n>>> 0 < no_green < 1\nTrue",
                  "hidden": false,
                  "locked": false
                },
                {
                  "code": ">>> 0.582 < no_green < 0.583\nTrue",
                  "hidden": true,
                  "locked": false
                }
              ],
              "scored": true,
              "setup": "",
              "teardown": "",
              "type": "doctest"
            }
          ]
        },
        "q2_3": {
          "name": "q2_3",
          "points": [
            0,
            4
          ],
          "suites": [
            {
              "cases": [
                {
                  "code": ">>> # Your probability output should be a value between 0 and 1.\n>>> 0 < at_least_one_green < 1\nTrue",
                  "hidden": false,
                  "locked": false
                },
                {
                  "code": ">>> 0.417643346770 <= at_least_one_green <= 0.417643346771\nTrue",
                  "hidden": true,
                  "locked": false
                }
              ],
              "scored": true,
              "setup": "",
              "teardown": "",
              "type": "doctest"
            }
          ]
        },
        "q2_4": {
          "name": "q2_4",
          "points": [
            0,
            4
          ],
          "suites": [
            {
              "cases": [
                {
                  "code": ">>> # Your probability output should be a value between 0 and 1.\n>>> 0 < lone_winners < 1\nTrue",
                  "hidden": false,
                  "locked": false
                },
                {
                  "code": ">>> lone_winners\n0.0011374153385028288",
                  "hidden": true,
                  "locked": false
                }
              ],
              "scored": true,
              "setup": "",
              "teardown": "",
              "type": "doctest"
            }
          ]
        },
        "q2_5": {
          "name": "q2_5",
          "points": [
            0,
            0,
            4
          ],
          "suites": [
            {
              "cases": [
                {
                  "code": ">>> # Make sure you are setting toys_option to an int\n>>> type(toys_option) == int\nTrue",
                  "hidden": false,
                  "locked": false
                },
                {
                  "code": ">>> # toys_option should be assigned to either 1, 2 or 3.\n>>> 1 <= toys_option <= 3\nTrue",
                  "hidden": false,
                  "locked": false
                },
                {
                  "code": ">>> toys_option == 1\nTrue",
                  "hidden": true,
                  "locked": false
                }
              ],
              "scored": true,
              "setup": "",
              "teardown": "",
              "type": "doctest"
            }
          ]
        },
        "q2_6": {
          "name": "q2_6",
          "points": [
            0,
            0,
            4
          ],
          "suites": [
            {
              "cases": [
                {
                  "code": ">>> # Make sure you are setting lottery_option to an int\n>>> type(lottery_option) == int\nTrue",
                  "hidden": false,
                  "locked": false
                },
                {
                  "code": ">>> # toys_option should be assigned to either 1, 2 or 3.\n>>> 1 <= lottery_option <= 3\nTrue",
                  "hidden": false,
                  "locked": false
                },
                {
                  "code": ">>> lottery_option == 2\nTrue",
                  "hidden": true,
                  "locked": false
                }
              ],
              "scored": true,
              "setup": "",
              "teardown": "",
              "type": "doctest"
            }
          ]
        },
        "q2_7": {
          "name": "q2_7",
          "points": [
            0,
            0,
            4
          ],
          "suites": [
            {
              "cases": [
                {
                  "code": ">>> # Make sure you are setting coin_option to an int\n>>> type(coin_option) == int\nTrue",
                  "hidden": false,
                  "locked": false
                },
                {
                  "code": ">>> 1 <= coin_option <= 3\nTrue",
                  "hidden": false,
                  "locked": false
                },
                {
                  "code": ">>> coin_option == 1\nTrue",
                  "hidden": true,
                  "locked": false
                }
              ],
              "scored": true,
              "setup": "",
              "teardown": "",
              "type": "doctest"
            }
          ]
        },
        "q4_1": {
          "name": "q4_1",
          "points": [
            0,
            0,
            1,
            3
          ],
          "suites": [
            {
              "cases": [
                {
                  "code": ">>> # The array should have length 2\n>>> len(deck_model_probabilities) == 2\nTrue",
                  "hidden": false,
                  "locked": false
                },
                {
                  "code": ">>> # The elements in the array should add up to 1.\n>>> sum(deck_model_probabilities) == 1\nTrue",
                  "hidden": false,
                  "locked": false
                },
                {
                  "code": ">>> deck_model_probabilities.item(0) == 4/13\nTrue",
                  "hidden": true,
                  "locked": false
                },
                {
                  "code": ">>> deck_model_probabilities.item(1) == 9/13\nTrue",
                  "hidden": true,
                  "locked": false
                }
              ],
              "scored": true,
              "setup": "",
              "teardown": "",
              "type": "doctest"
            }
          ]
        },
        "q4_2": {
          "name": "q4_2",
          "points": [
            0,
            0,
            5
          ],
          "suites": [
            {
              "cases": [
                {
                  "code": ">>> # Make sure you are setting statistic_choice to an int\n>>> type(statistic_choice) == int\nTrue",
                  "hidden": false,
                  "locked": false
                },
                {
                  "code": ">>> # statistic_choice should be assigned to either 1, 2 or 3.\n>>> 1 <= statistic_choice <= 3\nTrue",
                  "hidden": false,
                  "locked": false
                },
                {
                  "code": ">>> statistic_choice == 3\nTrue",
                  "hidden": true,
                  "locked": false
                }
              ],
              "scored": true,
              "setup": "",
              "teardown": "",
              "type": "doctest"
            }
          ]
        },
        "q4_3": {
          "name": "q4_3",
          "points": [
            5
          ],
          "suites": [
            {
              "cases": [
                {
                  "code": ">>> # The statistic should be between 0 and 13 face cards for\n>>> # a sample size of 13\n>>> num_face = deck_simulation_and_statistic(13, deck_model_probabilities)\n>>> 0 <= num_face <= 13\nTrue",
                  "hidden": false,
                  "locked": false
                }
              ],
              "scored": true,
              "setup": "",
              "teardown": "",
              "type": "doctest"
            }
          ]
        },
        "q4_4": {
          "name": "q4_4",
          "points": [
            2,
            3
          ],
          "suites": [
            {
              "cases": [
                {
                  "code": ">>> # There should be exactly as many elements in deck_statistics\n>>> # as the number 'repetitions'\n>>> len(deck_statistics) == repetitions\nTrue",
                  "hidden": false,
                  "locked": false
                },
                {
                  "code": ">>> # Each element of deck_statistics should be between 0\n>>> # and 13 inclusive\n>>> all([0 <= k <= 13 for k in deck_statistics])\nTrue",
                  "hidden": false,
                  "locked": false
                }
              ],
              "scored": true,
              "setup": "",
              "teardown": "",
              "type": "doctest"
            }
          ]
        }
      }
    },
    "colab": {
      "provenance": [],
      "collapsed_sections": [
        "5FGIjiXwI3Ed"
      ]
    }
  },
  "nbformat": 4,
  "nbformat_minor": 5
}